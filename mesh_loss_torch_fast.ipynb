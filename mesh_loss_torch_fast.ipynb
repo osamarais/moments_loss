{
 "cells": [
  {
   "cell_type": "code",
   "execution_count": 1,
   "id": "eae9a722",
   "metadata": {},
   "outputs": [],
   "source": [
    "import torch\n",
    "from math import factorial\n",
    "from pytorch3d.io import load_obj"
   ]
  },
  {
   "cell_type": "code",
   "execution_count": 2,
   "id": "e50c59ea",
   "metadata": {
    "scrolled": true
   },
   "outputs": [],
   "source": [
    "m = load_obj(\"model_normalized.obj\",load_textures=False)"
   ]
  },
  {
   "cell_type": "code",
   "execution_count": 3,
   "id": "52cb6827",
   "metadata": {},
   "outputs": [],
   "source": [
    "def M_ijk_torch(f_matrix,v_matrix,max_m):\n",
    "    num_faces = len(f_matrix)\n",
    "    \n",
    "    # Extract coordinates\n",
    "    ABC = v_matrix[f_matrix]\n",
    "    # Calculate Determinants\n",
    "    dets = torch.det(ABC)\n",
    "    \n",
    "    # Allocate Tensors\n",
    "    M_tensor = torch.zeros([num_faces,max_m,max_m,max_m],dtype=torch.float64)\n",
    "    C_tensor = torch.zeros([num_faces,max_m,max_m,max_m],dtype=torch.float64)\n",
    "    D_tensor = torch.zeros([num_faces,max_m,max_m,max_m],dtype=torch.float64)\n",
    "    S_tensor = torch.zeros([num_faces,max_m,max_m,max_m],dtype=torch.float64)\n",
    "    \n",
    "    # Calculate C Tensor, parallellized over faces\n",
    "    for i in range(max_m):\n",
    "            for j in range(max_m):\n",
    "                for k in range(max_m):\n",
    "                    if (i+j+k)<=max_m:\n",
    "                        C_tensor[:,i,j,k] = (ABC[:,2][:,0]**i)*(ABC[:,2][:,1]**j)*(ABC[:,2][:,2]**k)*(factorial(i+j+k)/(factorial(i)*factorial(j)*factorial(k)))\n",
    "                        \n",
    "    # Calculate D Tensor, parallellized over faces\n",
    "    for i in range(max_m):\n",
    "            for j in range(max_m):\n",
    "                for k in range(max_m):\n",
    "                    if (i+j+k)<=max_m:\n",
    "                        if (i<0) or (j<0) or (k<0):\n",
    "                            # D_ijk=0\n",
    "                            pass\n",
    "                        elif (0==i) and (0==j) and (0==k):\n",
    "                            # D_ijk = 1\n",
    "                            D_tensor[:,i,j,k] = 1\n",
    "                        else:\n",
    "                            D_tensor[:,i,j,k] = ABC[:,1][:,0]*D_tensor[:,i-1,j,k]+ABC[:,1][:,1]*D_tensor[:,i,j-1,k]+ABC[:,1][:,2]*D_tensor[:,i,j,k-1]+C_tensor[:,i,j,k]\n",
    "    \n",
    "    \n",
    "    # Calculate S Tensor, parallellized over faces\n",
    "    for i in range(max_m):\n",
    "            for j in range(max_m):\n",
    "                for k in range(max_m):\n",
    "                    if (i+j+k)<=max_m:\n",
    "                        if (i<0) or (j<0) or (k<0):\n",
    "                            # S_ijk = 0\n",
    "                            pass\n",
    "                        elif (0==i) and (0==j) and (0==k):\n",
    "                            # S_ijk = 1\n",
    "                            S_tensor[:,i,j,k] = 1\n",
    "                        else:\n",
    "                            S_tensor[:,i,j,k] = ABC[:,0][:,0]*S_tensor[:,i-1,j,k]+ABC[:,0][:,1]*S_tensor[:,i,j-1,k]+ABC[:,0][:,2]*S_tensor[:,i,j,k-1]+D_tensor[:,i,j,k]\n",
    "        \n",
    "    # Calculate M Tensor, parallellized over faces\n",
    "    for i in range(max_m):\n",
    "        for j in range(max_m):\n",
    "            for k in range(max_m):\n",
    "                if (i+j+k)<=max_m:\n",
    "                    M_tensor[:,i,j,k] = ((factorial(i)*factorial(j)*factorial(k))/factorial(i+j+k+3))*(dets[:]*S_tensor[:,i,j,k])\n",
    "                    \n",
    "    return torch.sum(M_tensor,0)\n",
    "    \n",
    "\n",
    "# M_ijk_torch(torch.tensor(f_matrix,dtype=torch.long),torch.tensor(v_matrix),3)"
   ]
  },
  {
   "cell_type": "code",
   "execution_count": 4,
   "id": "e97a0b1e",
   "metadata": {},
   "outputs": [],
   "source": [
    "def moment_loss_torch(f_matrix_1, v_matrix_1, f_matrix_2, v_matrix_2, max_m = 10):\n",
    "    return torch.linalg.norm(M_ijk_torch(f_matrix_1, v_matrix_1,max_m)-M_ijk_torch(f_matrix_2, v_matrix_2,max_m))"
   ]
  },
  {
   "cell_type": "code",
   "execution_count": 5,
   "id": "edbd59ec",
   "metadata": {},
   "outputs": [
    {
     "data": {
      "text/plain": [
       "tensor(0., dtype=torch.float64)"
      ]
     },
     "execution_count": 5,
     "metadata": {},
     "output_type": "execute_result"
    }
   ],
   "source": [
    "moment_loss_torch(m[1].verts_idx,m[0],m[1].verts_idx,m[0],10)"
   ]
  }
 ],
 "metadata": {
  "kernelspec": {
   "display_name": "Python 3 (ipykernel)",
   "language": "python",
   "name": "python3"
  },
  "language_info": {
   "codemirror_mode": {
    "name": "ipython",
    "version": 3
   },
   "file_extension": ".py",
   "mimetype": "text/x-python",
   "name": "python",
   "nbconvert_exporter": "python",
   "pygments_lexer": "ipython3",
   "version": "3.9.12"
  }
 },
 "nbformat": 4,
 "nbformat_minor": 5
}
