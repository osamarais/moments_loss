{
 "cells": [
  {
   "cell_type": "code",
   "execution_count": 1,
   "id": "29c25a71",
   "metadata": {},
   "outputs": [],
   "source": [
    "import torch\n",
    "from math import factorial, ceil\n",
    "# from pytorch3d.io import load_obj\n",
    "import timeit\n",
    "import numpy as np"
   ]
  },
  {
   "cell_type": "code",
   "execution_count": 2,
   "id": "0c4670a9",
   "metadata": {
    "scrolled": true
   },
   "outputs": [],
   "source": [
    "v_matrix = [[0, 0, 0], [0, 0, 1], [0, 1 ,0], [0, 1, 1], [1, 0, 0], [1, 0, 1], [1, 1 ,0], [1, 1 ,1]]\n",
    "f_matrix = [[0,2,4], [4,2,6],[0,1,3], [0,3,2], [0,5,1], [0,4,5], [1,7,3], [1,5,7], [4,7,5], [4,6,7], [7,6,2],[7,2,3]]\n",
    "v_matrix, f_matrix = torch.tensor(v_matrix,dtype=torch.float32), torch.tensor(f_matrix,dtype=torch.long)\n",
    "max_m = 10"
   ]
  },
  {
   "cell_type": "code",
   "execution_count": 3,
   "id": "db8bc1f5",
   "metadata": {},
   "outputs": [],
   "source": [
    "def M_ijk_torch_v6(f_matrix, v_matrix, max_m, is_watertigh, device):\n",
    "    total_num_faces = len(f_matrix)\n",
    "    \n",
    "    loop_batch_size = min(1000, total_num_faces)\n",
    "    \n",
    "#     m_v = torch.zeros([max_m,max_m,max_m],dtype=torch.float32, requires_grad=True).to(device)\n",
    "#     m_s = torch.zeros([max_m,max_m,max_m],dtype=torch.float32, requires_grad=True).to(device)\n",
    "    m_v = [torch.zeros([1,max_m,max_m],dtype=torch.float32, requires_grad=True).to('cpu') for _i in range(max_m)]\n",
    "    m_s = [torch.zeros([1,max_m,max_m],dtype=torch.float32, requires_grad=True).to('cpu') for _i in range(max_m)]\n",
    "    \n",
    "    \n",
    "    # This can be taken outside and made available as a global constant\n",
    "    f_ijk_s_p = np.zeros((max_m,max_m,max_m))\n",
    "    f_ijk_p_s_2 = np.zeros((max_m,max_m,max_m))\n",
    "    f_ijk_p_s_3 = np.zeros((max_m,max_m,max_m))\n",
    "    for i in range(max_m):\n",
    "                for j in range(max_m):\n",
    "                    for k in range(max_m):\n",
    "                        f_ijk_s_p[i,j,k] = (factorial(i+j+k)/(factorial(i)*factorial(j)*factorial(k)))\n",
    "                        f_ijk_p_s_3[i,j,k] = ((factorial(i)*factorial(j)*factorial(k))/factorial(i+j+k+3))\n",
    "                        f_ijk_p_s_2[i,j,k] = 1/f_ijk_s_p[i,j,k]/(i+j+k+1)/(i+j+k+2)\n",
    "                        f_ijk_p_s_3[i,j,k] = f_ijk_p_s_2[i,j,k]/(i+j+k+3)\n",
    "    f_ijk_s_p = torch.tensor(f_ijk_s_p)\n",
    "    f_ijk_p_s_2 = torch.tensor(f_ijk_p_s_2)\n",
    "    f_ijk_p_s_3 = torch.tensor(f_ijk_p_s_3)\n",
    "    \n",
    "    \n",
    "    \n",
    "    \n",
    "    for batch_num in range(ceil(total_num_faces/loop_batch_size)):\n",
    "        start = batch_num*loop_batch_size\n",
    "        end = min([(batch_num+1)*loop_batch_size, total_num_faces])\n",
    "        num_faces = end-start\n",
    "        \n",
    "        # Extract coordinates\n",
    "        ABC = v_matrix[f_matrix[start:end,:]]\n",
    "        if is_watertigh:\n",
    "            dets = torch.det(ABC).to(device)\n",
    "        cross = torch.norm(torch.cross(ABC[:,0]-ABC[:,2],ABC[:,1]-ABC[:,2]),p=2,dim = 1).to(device)\n",
    "\n",
    "\n",
    "        # Allocate Tensors\n",
    "        # NEW: i dimension of size 2 for M_V, M_S, D,S\n",
    "        M_V_tensor = torch.zeros([num_faces,max_m,max_m,max_m],dtype=torch.float32).to(device)\n",
    "        M_S_tensor = torch.zeros([num_faces,max_m,max_m,max_m],dtype=torch.float32).to(device)\n",
    "        D_tensor = torch.zeros([num_faces,max_m,max_m,max_m],dtype=torch.float32).to(device)\n",
    "        S_tensor = torch.zeros([num_faces,max_m,max_m,max_m],dtype=torch.float32).to(device)\n",
    "        # NEW: [:,1,0,0] = 1 instead of [:,0,0,0]\n",
    "        D_tensor[:,1,0,0] = 1\n",
    "        S_tensor[:,1,0,0] = 1\n",
    "        \n",
    "\n",
    "        jl = torch.arange(max_m)\n",
    "        kl = torch.arange(max_m)\n",
    "        # Calculate C,D,S,M Tensors, parallellized over faces\n",
    "        for i in range(max_m):\n",
    "            il = torch.tensor(i)\n",
    "            C_tensor = torch.multiply(torch.multiply(torch.pow(ABC[:,2][:,0].view(-1,1,1,1),il.view(1,-1,1,1)),torch.pow(ABC[:,2][:,1].view(-1,1,1,1),jl.view(1,1,-1,1))),torch.pow(ABC[:,2][:,2].view(-1,1,1,1),kl.view(1,1,1,-1)))*f_ijk_s_p[il.view(-1,1,1),jl.view(1,-1,1),kl.view(1,1,-1)]\n",
    "            for j in range(max_m):\n",
    "                for k in range(max_m):\n",
    "                    # Can get rid of this condition later on if needed\n",
    "#                     if (i+j+k)<=max_m:\n",
    "                    # NEW:\n",
    "                    # In D,S,M_V,M_S:\n",
    "                    #            i:1\n",
    "                    #          i-1:0\n",
    "                    # In C:\n",
    "                    #            i:0  DONE\n",
    "                    D_tensor[:,i,j,k] = ABC[:,1][:,0]*D_tensor[:,i-1,j,k]+ABC[:,1][:,1]*D_tensor[:,i,j-1,k]+ABC[:,1][:,2]*D_tensor[:,i,j,k-1]+C_tensor[:,0,j,k]\n",
    "                    S_tensor[:,i,j,k] = ABC[:,0][:,0]*S_tensor[:,i-1,j,k]+ABC[:,0][:,1]*S_tensor[:,i,j-1,k]+ABC[:,0][:,2]*S_tensor[:,i,j,k-1]+D_tensor[:,i,j,k]\n",
    "\n",
    "#                         # Absorb this into the next line, to avoid making M_V and M_S tensors\n",
    "#                         M_V_tensor[:,i,j,k] = f_ijk_p_s_3[i,j,k]*(dets[:]*S_tensor[:,i,j,k])\n",
    "#                         M_S_tensor[:,i,j,k] = f_ijk_p_s_2[i,j,k]*(cross[:]*S_tensor[:,i,j,k])\n",
    "                    # Absorb this into the next line, to avoid making M_V and M_S tensors\n",
    "                    M_V_tensor[:,i,j,k] = f_ijk_p_s_3[i,j,k]*(dets[:]*S_tensor[:,i,j,k])\n",
    "                    M_S_tensor[:,i,j,k] = f_ijk_p_s_2[i,j,k]*(cross[:]*S_tensor[:,i,j,k])\n",
    "\n",
    "#                         m_v = m_v + torch.sum(M_V_tensor,0)\n",
    "#                         m_v[i,j,k] = m_v.clone()[i,j,k] + torch.sum(M_V_tensor.clone()[:,i,j,k],0).clone()\n",
    "#                         m_s = m_s + torch.sum(M_S_tensor,0)\n",
    "\n",
    "                    #NEW: Instead of summing along 0th axis for each i,j,k, sum along 0th axis for each i\n",
    "                    #    This requires that we create max_m dijointed tensors, one for each i\n",
    "            m_v[i] = m_v[i] + torch.sum(M_V_tensor[:,i,:,:],0)\n",
    "            m_s[i] = m_s[i] + torch.sum(M_S_tensor[:,i,:,:],0)\n",
    "            #NEW: Flip D,S,M_V,M_S along i axis\n",
    "            \n",
    "\n",
    " \n",
    "    m_v = torch.stack(m_v).squeeze()\n",
    "    m_s = torch.stack(m_s).squeeze()\n",
    "    \n",
    "#         m_v = m_v + torch.sum(M_V_tensor,0)\n",
    "#         m_s = m_s + torch.sum(M_S_tensor,0)\n",
    "    \n",
    "    return (m_v,m_s)"
   ]
  },
  {
   "cell_type": "code",
   "execution_count": 4,
   "id": "d5cf6962",
   "metadata": {},
   "outputs": [],
   "source": [
    "def M_ijk_Pozo_v0(f_matrix, v_matrix, max_m, is_watertigh, device):\n",
    "    total_num_faces = len(f_matrix)\n",
    "    \n",
    "    loop_batch_size = min(1000, total_num_faces)\n",
    "    \n",
    "    m_v = torch.zeros([max_m,max_m,max_m],dtype=torch.float32, requires_grad=True).to(device)\n",
    "    m_s = torch.zeros([max_m,max_m,max_m],dtype=torch.float32, requires_grad=True).to(device)    \n",
    "    \n",
    "    # This can be taken outside and made available as a global constant\n",
    "    f_ijk_s_p = np.zeros((max_m,max_m,max_m))\n",
    "    f_ijk_p_s_2 = np.zeros((max_m,max_m,max_m))\n",
    "    f_ijk_p_s_3 = np.zeros((max_m,max_m,max_m))\n",
    "    for i in range(max_m):\n",
    "                for j in range(max_m):\n",
    "                    for k in range(max_m):\n",
    "                        f_ijk_s_p[i,j,k] = (factorial(i+j+k)/(factorial(i)*factorial(j)*factorial(k)))\n",
    "                        f_ijk_p_s_3[i,j,k] = ((factorial(i)*factorial(j)*factorial(k))/factorial(i+j+k+3))\n",
    "                        f_ijk_p_s_2[i,j,k] = 1/f_ijk_s_p[i,j,k]/(i+j+k+1)/(i+j+k+2)\n",
    "                        f_ijk_p_s_3[i,j,k] = f_ijk_p_s_2[i,j,k]/(i+j+k+3)\n",
    "    f_ijk_s_p = torch.tensor(f_ijk_s_p).float()\n",
    "    f_ijk_p_s_2 = torch.tensor(f_ijk_p_s_2).float()\n",
    "    f_ijk_p_s_3 = torch.tensor(f_ijk_p_s_3).float()\n",
    "    \n",
    "    \n",
    "    \n",
    "    for batch_num in range(ceil(total_num_faces/loop_batch_size)):\n",
    "        start = batch_num*loop_batch_size\n",
    "        end = min([(batch_num+1)*loop_batch_size, total_num_faces])\n",
    "        num_faces = end-start\n",
    "        \n",
    "        # Extract coordinates\n",
    "        ABC = v_matrix[f_matrix[start:end,:]]\n",
    "        if is_watertigh:\n",
    "            dets = torch.det(ABC).to(device)\n",
    "        cross = torch.norm(torch.cross(ABC[:,0]-ABC[:,2],ABC[:,1]-ABC[:,2]),p=2,dim = 1).to(device)\n",
    "        \n",
    "        \n",
    "        i = torch.arange(max_m)\n",
    "        # Calculate C tensors\n",
    "        C1_tensor = torch.multiply(torch.multiply(torch.pow(ABC[:,0][:,0].view(-1,1,1,1),i.view(1,-1,1,1)),torch.pow(ABC[:,0][:,1].view(-1,1,1,1),i.view(1,1,-1,1))),torch.pow(ABC[:,0][:,2].view(-1,1,1,1),i.view(1,1,1,-1)))*f_ijk_s_p\n",
    "        C2_tensor = torch.multiply(torch.multiply(torch.pow(ABC[:,1][:,0].view(-1,1,1,1),i.view(1,-1,1,1)),torch.pow(ABC[:,1][:,1].view(-1,1,1,1),i.view(1,1,-1,1))),torch.pow(ABC[:,1][:,2].view(-1,1,1,1),i.view(1,1,1,-1)))*f_ijk_s_p\n",
    "        C3_tensor = torch.multiply(torch.multiply(torch.pow(ABC[:,2][:,0].view(-1,1,1,1),i.view(1,-1,1,1)),torch.pow(ABC[:,2][:,1].view(-1,1,1,1),i.view(1,1,-1,1))),torch.pow(ABC[:,2][:,2].view(-1,1,1,1),i.view(1,1,1,-1)))*f_ijk_s_p\n",
    "        \n",
    "        \n",
    "        # set up \"contraction kernel\"\n",
    "        inds = torch.arange (max_m)\n",
    "        kernel = ((inds.unsqueeze (0) + inds.unsqueeze (1)).unsqueeze (0) == inds.unsqueeze (-1).unsqueeze (-1)).float()\n",
    "\n",
    "        D_tensor = torch.einsum ('eijk, ail, bjm, ckn, elmn -> eabc', C2_tensor, kernel, kernel, kernel, C3_tensor)\n",
    "        \n",
    "        S_tensor = torch.einsum ('eijk, ail, bjm, ckn, elmn -> eabc', C1_tensor, kernel, kernel, kernel, D_tensor) \n",
    "        \n",
    "        m_v = m_v + (S_tensor * f_ijk_p_s_3 * dets.view(-1,1,1,1)).sum(0)\n",
    "        m_s = m_s + (S_tensor * f_ijk_p_s_2 * cross.view(-1,1,1,1)).sum(0)\n",
    "        \n",
    "    return (m_v,m_s)\n",
    "\n"
   ]
  },
  {
   "cell_type": "code",
   "execution_count": 5,
   "id": "ff645507",
   "metadata": {},
   "outputs": [],
   "source": [
    "def M_ijk_Pozo_v1(f_matrix, v_matrix, max_m, is_watertigh, device):\n",
    "    total_num_faces = len(f_matrix)\n",
    "    \n",
    "    loop_batch_size = min(1000, total_num_faces)\n",
    "    \n",
    "    m_v = torch.zeros([max_m,max_m,max_m],dtype=torch.float32, requires_grad=True).to(device)\n",
    "    m_s = torch.zeros([max_m,max_m,max_m],dtype=torch.float32, requires_grad=True).to(device)    \n",
    "    \n",
    "    # This can be taken outside and made available as a global constant\n",
    "    f_ijk_s_p = np.zeros((max_m,max_m,max_m))\n",
    "    f_ijk_p_s_2 = np.zeros((max_m,max_m,max_m))\n",
    "    f_ijk_p_s_3 = np.zeros((max_m,max_m,max_m))\n",
    "    for i in range(max_m):\n",
    "                for j in range(max_m):\n",
    "                    for k in range(max_m):\n",
    "                        f_ijk_s_p[i,j,k] = (factorial(i+j+k)/(factorial(i)*factorial(j)*factorial(k)))\n",
    "                        f_ijk_p_s_3[i,j,k] = ((factorial(i)*factorial(j)*factorial(k))/factorial(i+j+k+3))\n",
    "                        f_ijk_p_s_2[i,j,k] = 1/f_ijk_s_p[i,j,k]/(i+j+k+1)/(i+j+k+2)\n",
    "                        f_ijk_p_s_3[i,j,k] = f_ijk_p_s_2[i,j,k]/(i+j+k+3)\n",
    "    f_ijk_s_p = torch.tensor(f_ijk_s_p).float()\n",
    "    f_ijk_p_s_2 = torch.tensor(f_ijk_p_s_2).float()\n",
    "    f_ijk_p_s_3 = torch.tensor(f_ijk_p_s_3).float()\n",
    "    \n",
    "    \n",
    "    i = torch.arange(max_m)\n",
    "    # set up \"contraction kernel\"\n",
    "    kernel = ((i.unsqueeze (0) + i.unsqueeze (1)).unsqueeze (0) == i.unsqueeze (-1).unsqueeze (-1)).float()\n",
    "        \n",
    "    for batch_num in range(ceil(total_num_faces/loop_batch_size)):\n",
    "        start = batch_num*loop_batch_size\n",
    "        end = min([(batch_num+1)*loop_batch_size, total_num_faces])\n",
    "        num_faces = end-start\n",
    "        \n",
    "        # Extract coordinates\n",
    "        ABC = v_matrix[f_matrix[start:end,:]]\n",
    "        if is_watertigh:\n",
    "            dets = torch.det(ABC).to(device)\n",
    "        cross = torch.norm(torch.cross(ABC[:,0]-ABC[:,2],ABC[:,1]-ABC[:,2]),p=2,dim = 1).to(device)\n",
    "        \n",
    "        S_tensor = torch.einsum ('eijk, ail, bjm, ckn, elmn -> eabc', torch.multiply(torch.multiply(torch.pow(ABC[:,0][:,0].view(-1,1,1,1),i.view(1,-1,1,1)),torch.pow(ABC[:,0][:,1].view(-1,1,1,1),i.view(1,1,-1,1))),torch.pow(ABC[:,0][:,2].view(-1,1,1,1),i.view(1,1,1,-1)))*f_ijk_s_p, kernel, kernel, kernel, torch.einsum ('eijk, ail, bjm, ckn, elmn -> eabc', torch.multiply(torch.multiply(torch.pow(ABC[:,1][:,0].view(-1,1,1,1),i.view(1,-1,1,1)),torch.pow(ABC[:,1][:,1].view(-1,1,1,1),i.view(1,1,-1,1))),torch.pow(ABC[:,1][:,2].view(-1,1,1,1),i.view(1,1,1,-1)))*f_ijk_s_p, kernel, kernel, kernel, torch.multiply(torch.multiply(torch.pow(ABC[:,2][:,0].view(-1,1,1,1),i.view(1,-1,1,1)),torch.pow(ABC[:,2][:,1].view(-1,1,1,1),i.view(1,1,-1,1))),torch.pow(ABC[:,2][:,2].view(-1,1,1,1),i.view(1,1,1,-1)))*f_ijk_s_p)) \n",
    "        \n",
    "        m_v = m_v + (S_tensor * f_ijk_p_s_3 * dets.view(-1,1,1,1)).sum(0)\n",
    "        m_s = m_s + (S_tensor * f_ijk_p_s_2 * cross.view(-1,1,1,1)).sum(0)\n",
    "        \n",
    "    return (m_v,m_s)\n",
    "\n"
   ]
  },
  {
   "cell_type": "code",
   "execution_count": 6,
   "id": "65cb2a2a",
   "metadata": {},
   "outputs": [
    {
     "data": {
      "text/plain": [
       "True"
      ]
     },
     "execution_count": 6,
     "metadata": {},
     "output_type": "execute_result"
    }
   ],
   "source": [
    "torch.allclose(M_ijk_torch_v6(f_matrix,v_matrix,max_m,True,torch.device('cpu'))[0],M_ijk_Pozo_v1(f_matrix,v_matrix,max_m,True,torch.device('cpu'))[0])"
   ]
  },
  {
   "cell_type": "code",
   "execution_count": 9,
   "id": "f63fed03",
   "metadata": {},
   "outputs": [
    {
     "name": "stdout",
     "output_type": "stream",
     "text": [
      "30.6 ms ± 936 µs per loop (mean ± std. dev. of 7 runs, 10 loops each)\n"
     ]
    }
   ],
   "source": [
    "%timeit M_ijk_Pozo_v0(f_matrix,v_matrix,max_m,True,torch.device('cpu'))"
   ]
  },
  {
   "cell_type": "code",
   "execution_count": 10,
   "id": "68a6c37f",
   "metadata": {},
   "outputs": [
    {
     "name": "stdout",
     "output_type": "stream",
     "text": [
      "31.2 ms ± 618 µs per loop (mean ± std. dev. of 7 runs, 10 loops each)\n"
     ]
    }
   ],
   "source": [
    "%timeit M_ijk_Pozo_v1(f_matrix,v_matrix,max_m,True,torch.device('cpu'))"
   ]
  },
  {
   "cell_type": "code",
   "execution_count": 11,
   "id": "6eb70d16",
   "metadata": {},
   "outputs": [
    {
     "name": "stdout",
     "output_type": "stream",
     "text": [
      "216 ms ± 2.03 ms per loop (mean ± std. dev. of 7 runs, 1 loop each)\n"
     ]
    }
   ],
   "source": [
    "%timeit M_ijk_torch_v6(f_matrix,v_matrix,max_m,True,torch.device('cpu'))"
   ]
  },
  {
   "cell_type": "code",
   "execution_count": null,
   "id": "27196248",
   "metadata": {},
   "outputs": [],
   "source": []
  },
  {
   "cell_type": "code",
   "execution_count": null,
   "id": "bbb320d1",
   "metadata": {},
   "outputs": [],
   "source": []
  },
  {
   "cell_type": "code",
   "execution_count": null,
   "id": "52fdb060",
   "metadata": {},
   "outputs": [],
   "source": []
  },
  {
   "cell_type": "code",
   "execution_count": null,
   "id": "8d505531",
   "metadata": {},
   "outputs": [],
   "source": []
  },
  {
   "cell_type": "code",
   "execution_count": null,
   "id": "15e8a6a6",
   "metadata": {},
   "outputs": [],
   "source": []
  },
  {
   "cell_type": "code",
   "execution_count": null,
   "id": "81220586",
   "metadata": {},
   "outputs": [],
   "source": []
  },
  {
   "cell_type": "code",
   "execution_count": null,
   "id": "b0569747",
   "metadata": {},
   "outputs": [],
   "source": []
  },
  {
   "cell_type": "code",
   "execution_count": null,
   "id": "030d5a47",
   "metadata": {},
   "outputs": [],
   "source": []
  }
 ],
 "metadata": {
  "kernelspec": {
   "display_name": "Python 3 (ipykernel)",
   "language": "python",
   "name": "python3"
  },
  "language_info": {
   "codemirror_mode": {
    "name": "ipython",
    "version": 3
   },
   "file_extension": ".py",
   "mimetype": "text/x-python",
   "name": "python",
   "nbconvert_exporter": "python",
   "pygments_lexer": "ipython3",
   "version": "3.9.12"
  }
 },
 "nbformat": 4,
 "nbformat_minor": 5
}
