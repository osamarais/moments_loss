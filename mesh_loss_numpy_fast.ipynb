{
 "cells": [
  {
   "cell_type": "code",
   "execution_count": 1,
   "id": "0bb3192d",
   "metadata": {},
   "outputs": [],
   "source": [
    "import numpy as np\n",
    "import torch\n",
    "from pytorch3d.io import load_obj"
   ]
  },
  {
   "cell_type": "code",
   "execution_count": 2,
   "id": "ae734555",
   "metadata": {},
   "outputs": [],
   "source": [
    "# m = load_obj(\"model_normalized.obj\",load_textures=False)\n",
    "# v_matrix = m[0]\n",
    "# f_matrix = m[1].verts_idx\n",
    "\n",
    "m = torch.load('mesh.pt')\n",
    "v_matrix = m['verts']\n",
    "f_matrix = m['faces']"
   ]
  },
  {
   "cell_type": "code",
   "execution_count": 3,
   "id": "9efd3f37",
   "metadata": {},
   "outputs": [],
   "source": [
    "def M_ijk_numpy(f_matrix,v_matrix,max_m):\n",
    "    num_faces = len(f_matrix)\n",
    "    \n",
    "    # Extract coordinates\n",
    "    A = np.zeros([num_faces,3])\n",
    "    B = np.zeros([num_faces,3])\n",
    "    C = np.zeros([num_faces,3])\n",
    "    for face_num in range(num_faces):\n",
    "        [A[face_num,:],B[face_num,:],C[face_num,:]] = v_matrix[f_matrix[face_num]]\n",
    "    # Calculate Determinants\n",
    "    dets = np.linalg.det([[A[i],B[i],C[i]] for i in range(len(f_matrix))])\n",
    "    \n",
    "    # Allocate Tensors\n",
    "    M_tensor = np.zeros([num_faces,max_m,max_m,max_m])\n",
    "    C_tensor = np.zeros([num_faces,max_m,max_m,max_m])\n",
    "    D_tensor = np.zeros([num_faces,max_m,max_m,max_m])\n",
    "    S_tensor = np.zeros([num_faces,max_m,max_m,max_m])\n",
    "    \n",
    "    # Calculate C Tensor, parallellized over faces\n",
    "    for i in range(max_m):\n",
    "            for j in range(max_m):\n",
    "                for k in range(max_m):\n",
    "                    if (i+j+k)<=max_m:\n",
    "                        C_tensor[:,i,j,k] = (C[:,0]**i)*(C[:,1]**j)*(C[:,2]**k)*(np.math.factorial(i+j+k)/(np.math.factorial(i)*np.math.factorial(j)*np.math.factorial(k)))\n",
    "                        \n",
    "    # Calculate D Tensor, parallellized over faces\n",
    "    for i in range(max_m):\n",
    "            for j in range(max_m):\n",
    "                for k in range(max_m):\n",
    "                    if (i+j+k)<=max_m:\n",
    "                        if (i<0) or (j<0) or (k<0):\n",
    "                            # D_ijk=0\n",
    "                            pass\n",
    "                        elif (0==i) and (0==j) and (0==k):\n",
    "                            # D_ijk = 1\n",
    "                            D_tensor[:,i,j,k] = 1\n",
    "                        else:\n",
    "                            D_tensor[:,i,j,k] = B[:,0]*D_tensor[:,i-1,j,k]+B[:,1]*D_tensor[:,i,j-1,k]+B[:,2]*D_tensor[:,i,j,k-1]+C_tensor[:,i,j,k]\n",
    "    \n",
    "    \n",
    "    # Calculate S Tensor, parallellized over faces\n",
    "    for i in range(max_m):\n",
    "            for j in range(max_m):\n",
    "                for k in range(max_m):\n",
    "                    if (i+j+k)<=max_m:\n",
    "                        if (i<0) or (j<0) or (k<0):\n",
    "                            # S_ijk = 0\n",
    "                            pass\n",
    "                        elif (0==i) and (0==j) and (0==k):\n",
    "                            # S_ijk = 1\n",
    "                            S_tensor[:,i,j,k] = 1\n",
    "                        else:\n",
    "                            S_tensor[:,i,j,k] = A[:,0]*S_tensor[:,i-1,j,k]+A[:,1]*S_tensor[:,i,j-1,k]+A[:,2]*S_tensor[:,i,j,k-1]+D_tensor[:,i,j,k]\n",
    "        \n",
    "    # Calculate M Tensor, parallellized over faces\n",
    "    for i in range(max_m):\n",
    "        for j in range(max_m):\n",
    "            for k in range(max_m):\n",
    "                if (i+j+k)<=max_m:\n",
    "                    M_tensor[:,i,j,k] = ((np.math.factorial(i)*np.math.factorial(j)*np.math.factorial(k))/np.math.factorial(i+j+k+3))*dets[:]*S_tensor[:,i,j,k]\n",
    "    return np.sum(M_tensor,axis=0)\n"
   ]
  },
  {
   "cell_type": "code",
   "execution_count": 4,
   "id": "1a03479d",
   "metadata": {},
   "outputs": [],
   "source": [
    "def moment_loss_numpy(f_matrix_1, v_matrix_1, f_matrix_2, v_matrix_2, max_m = 5):\n",
    "    return np.linalg.norm(M_ijk_numpy(f_matrix_1, v_matrix_1,max_m)-M_ijk_numpy(f_matrix_2, v_matrix_2,max_m))"
   ]
  },
  {
   "cell_type": "code",
   "execution_count": 5,
   "id": "ca9ac773",
   "metadata": {},
   "outputs": [
    {
     "data": {
      "text/plain": [
       "0.0"
      ]
     },
     "execution_count": 5,
     "metadata": {},
     "output_type": "execute_result"
    }
   ],
   "source": [
    "moment_loss_numpy(f_matrix,v_matrix,f_matrix,v_matrix)"
   ]
  },
  {
   "cell_type": "code",
   "execution_count": 6,
   "id": "60e9e570",
   "metadata": {},
   "outputs": [
    {
     "data": {
      "text/plain": [
       "array([[[ 5.98703027e-02, -4.12607817e-05,  5.80252691e-04,\n",
       "         -1.17278317e-06,  1.07278499e-05],\n",
       "        [-1.69435116e-03,  1.13828618e-06, -2.19107815e-05,\n",
       "          4.32523016e-08, -4.77722066e-07],\n",
       "        [ 3.33255694e-04, -2.33019491e-07,  3.21944244e-06,\n",
       "         -6.53593615e-09,  0.00000000e+00],\n",
       "        [-1.97563002e-05,  1.38016816e-08, -2.54804038e-07,\n",
       "          0.00000000e+00,  0.00000000e+00],\n",
       "        [ 3.71812533e-06, -2.59429009e-09,  0.00000000e+00,\n",
       "          0.00000000e+00,  0.00000000e+00]],\n",
       "\n",
       "       [[-1.61912308e-03,  1.64069324e-06, -1.35486198e-05,\n",
       "          2.02691090e-08, -1.81595697e-07],\n",
       "        [-1.18300484e-04,  8.71818110e-08, -7.49190105e-07,\n",
       "          2.85166409e-09,  0.00000000e+00],\n",
       "        [-6.39961301e-06,  9.69056539e-09, -3.87166542e-08,\n",
       "          0.00000000e+00,  0.00000000e+00],\n",
       "        [-1.07221057e-06,  3.57409392e-10,  0.00000000e+00,\n",
       "          0.00000000e+00,  0.00000000e+00],\n",
       "        [-3.90640180e-08,  0.00000000e+00,  0.00000000e+00,\n",
       "          0.00000000e+00,  0.00000000e+00]],\n",
       "\n",
       "       [[ 2.76600010e-03, -2.66774230e-06,  2.58160093e-05,\n",
       "         -8.34211940e-08,  0.00000000e+00],\n",
       "        [-1.10607471e-04,  1.45026484e-07, -1.20250291e-06,\n",
       "          0.00000000e+00,  0.00000000e+00],\n",
       "        [ 1.52200211e-05, -1.88581023e-08,  0.00000000e+00,\n",
       "          0.00000000e+00,  0.00000000e+00],\n",
       "        [-1.18333552e-06,  0.00000000e+00,  0.00000000e+00,\n",
       "          0.00000000e+00,  0.00000000e+00],\n",
       "        [ 0.00000000e+00,  0.00000000e+00,  0.00000000e+00,\n",
       "          0.00000000e+00,  0.00000000e+00]],\n",
       "\n",
       "       [[-1.32257667e-04, -1.66250499e-08, -1.28976867e-06,\n",
       "          0.00000000e+00,  0.00000000e+00],\n",
       "        [-7.80916262e-06,  2.00792440e-08,  0.00000000e+00,\n",
       "          0.00000000e+00,  0.00000000e+00],\n",
       "        [-3.01108575e-07,  0.00000000e+00,  0.00000000e+00,\n",
       "          0.00000000e+00,  0.00000000e+00],\n",
       "        [ 0.00000000e+00,  0.00000000e+00,  0.00000000e+00,\n",
       "          0.00000000e+00,  0.00000000e+00],\n",
       "        [ 0.00000000e+00,  0.00000000e+00,  0.00000000e+00,\n",
       "          0.00000000e+00,  0.00000000e+00]],\n",
       "\n",
       "       [[ 2.50115902e-04, -2.78133748e-07,  0.00000000e+00,\n",
       "          0.00000000e+00,  0.00000000e+00],\n",
       "        [-1.14932345e-05,  0.00000000e+00,  0.00000000e+00,\n",
       "          0.00000000e+00,  0.00000000e+00],\n",
       "        [ 0.00000000e+00,  0.00000000e+00,  0.00000000e+00,\n",
       "          0.00000000e+00,  0.00000000e+00],\n",
       "        [ 0.00000000e+00,  0.00000000e+00,  0.00000000e+00,\n",
       "          0.00000000e+00,  0.00000000e+00],\n",
       "        [ 0.00000000e+00,  0.00000000e+00,  0.00000000e+00,\n",
       "          0.00000000e+00,  0.00000000e+00]]])"
      ]
     },
     "execution_count": 6,
     "metadata": {},
     "output_type": "execute_result"
    }
   ],
   "source": [
    "M_ijk_numpy(f_matrix,v_matrix, 5)"
   ]
  },
  {
   "cell_type": "code",
   "execution_count": null,
   "id": "1547953f",
   "metadata": {},
   "outputs": [],
   "source": []
  }
 ],
 "metadata": {
  "kernelspec": {
   "display_name": "Python 3 (ipykernel)",
   "language": "python",
   "name": "python3"
  },
  "language_info": {
   "codemirror_mode": {
    "name": "ipython",
    "version": 3
   },
   "file_extension": ".py",
   "mimetype": "text/x-python",
   "name": "python",
   "nbconvert_exporter": "python",
   "pygments_lexer": "ipython3",
   "version": "3.9.12"
  }
 },
 "nbformat": 4,
 "nbformat_minor": 5
}
