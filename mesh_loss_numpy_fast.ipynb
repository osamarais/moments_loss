{
 "cells": [
  {
   "cell_type": "code",
   "execution_count": 1,
   "id": "0bb3192d",
   "metadata": {},
   "outputs": [],
   "source": [
    "import pymeshlab\n",
    "import numpy as np"
   ]
  },
  {
   "cell_type": "code",
   "execution_count": 2,
   "id": "ae734555",
   "metadata": {},
   "outputs": [],
   "source": [
    "ms = pymeshlab.MeshSet()\n",
    "ms.load_new_mesh(\"model_normalized.obj\")\n",
    "\n",
    "m = ms.current_mesh()\n",
    "\n",
    "v_matrix = m.vertex_matrix()\n",
    "f_matrix = m.face_matrix()"
   ]
  },
  {
   "cell_type": "code",
   "execution_count": 3,
   "id": "9efd3f37",
   "metadata": {},
   "outputs": [],
   "source": [
    "def M_ijk_fast(f_matrix,v_matrix,max_m):\n",
    "    num_faces = len(f_matrix)\n",
    "    \n",
    "    # Extract coordinates\n",
    "    A = np.zeros([num_faces,3])\n",
    "    B = np.zeros([num_faces,3])\n",
    "    C = np.zeros([num_faces,3])\n",
    "    for face_num in range(num_faces):\n",
    "        [A[face_num,:],B[face_num,:],C[face_num,:]] = v_matrix[f_matrix[face_num]]\n",
    "    # Calculate Determinants\n",
    "    dets = np.linalg.det([[A[i],B[i],C[i]] for i in range(len(f_matrix))])\n",
    "    \n",
    "    # Allocate Tensors\n",
    "    M_tensor = np.zeros([num_faces,max_m,max_m,max_m])\n",
    "    C_tensor = np.zeros([num_faces,max_m,max_m,max_m])\n",
    "    D_tensor = np.zeros([num_faces,max_m,max_m,max_m])\n",
    "    S_tensor = np.zeros([num_faces,max_m,max_m,max_m])\n",
    "    \n",
    "    # Calculate C Tensor, parallellized over faces\n",
    "    for i in range(max_m):\n",
    "            for j in range(max_m):\n",
    "                for k in range(max_m):\n",
    "                    if (i+j+k)<=max_m:\n",
    "                        C_tensor[:,i,j,k] = (C[:,0]**i)*(C[:,1]**j)*(C[:,2]**k)*(np.math.factorial(i+j+k)/(np.math.factorial(i)*np.math.factorial(j)*np.math.factorial(k)))\n",
    "                        \n",
    "    # Calculate D Tensor, parallellized over faces\n",
    "    for i in range(max_m):\n",
    "            for j in range(max_m):\n",
    "                for k in range(max_m):\n",
    "                    if (i+j+k)<=max_m:\n",
    "                        if (i<0) or (j<0) or (k<0):\n",
    "                            # D_ijk=0\n",
    "                            pass\n",
    "                        elif (0==i) and (0==j) and (0==k):\n",
    "                            # D_ijk = 1\n",
    "                            D_tensor[:,i,j,k] = 1\n",
    "                        else:\n",
    "                            D_tensor[:,i,j,k] = B[:,0]*D_tensor[:,i-1,j,k]+B[:,1]*D_tensor[:,i,j-1,k]+B[:,2]*D_tensor[:,i,j,k-1]+C_tensor[:,i,j,k]\n",
    "    \n",
    "    \n",
    "    # Calculate S Tensor, parallellized over faces\n",
    "    for i in range(max_m):\n",
    "            for j in range(max_m):\n",
    "                for k in range(max_m):\n",
    "                    if (i+j+k)<=max_m:\n",
    "                        if (i<0) or (j<0) or (k<0):\n",
    "                            # S_ijk = 0\n",
    "                            pass\n",
    "                        elif (0==i) and (0==j) and (0==k):\n",
    "                            # S_ijk = 1\n",
    "                            S_tensor[:,i,j,k] = 1\n",
    "                        else:\n",
    "                            S_tensor[:,i,j,k] = A[:,0]*S_tensor[:,i-1,j,k]+A[:,1]*S_tensor[:,i,j-1,k]+A[:,2]*S_tensor[:,i,j,k-1]+D_tensor[:,i,j,k]\n",
    "        \n",
    "    # Calculate M Tensor, parallellized over faces\n",
    "    for i in range(max_m):\n",
    "        for j in range(max_m):\n",
    "            for k in range(max_m):\n",
    "                if (i+j+k)<=max_m:\n",
    "                    M_tensor[:,i,j,k] = ((np.math.factorial(i)*np.math.factorial(j)*np.math.factorial(k))/np.math.factorial(i+j+k+3))*dets[:]*S_tensor[:,i,j,k]\n",
    "    return np.sum(M_tensor,axis=0)\n",
    "#      M_tensor = M_tensor\n",
    "#     return M_tensor\n",
    "\n",
    "                        \n",
    "    \n",
    "    "
   ]
  },
  {
   "cell_type": "code",
   "execution_count": 4,
   "id": "1a03479d",
   "metadata": {},
   "outputs": [],
   "source": [
    "def moment_loss_numpy(f_matrix_1, v_matrix_1, f_matrix_2, v_matrix_2, max_m = 10):\n",
    "    return np.linalg.norm(M_ijk_fast(f_matrix_1, v_matrix_1,max_m)-M_ijk_fast(f_matrix_2, v_matrix_2,max_m))"
   ]
  },
  {
   "cell_type": "code",
   "execution_count": 5,
   "id": "ca9ac773",
   "metadata": {},
   "outputs": [
    {
     "data": {
      "text/plain": [
       "0.0"
      ]
     },
     "execution_count": 5,
     "metadata": {},
     "output_type": "execute_result"
    }
   ],
   "source": [
    "moment_loss_numpy(f_matrix,v_matrix,f_matrix,v_matrix)"
   ]
  },
  {
   "cell_type": "code",
   "execution_count": null,
   "id": "fe0a31f0",
   "metadata": {},
   "outputs": [],
   "source": []
  }
 ],
 "metadata": {
  "kernelspec": {
   "display_name": "Python 3 (ipykernel)",
   "language": "python",
   "name": "python3"
  },
  "language_info": {
   "codemirror_mode": {
    "name": "ipython",
    "version": 3
   },
   "file_extension": ".py",
   "mimetype": "text/x-python",
   "name": "python",
   "nbconvert_exporter": "python",
   "pygments_lexer": "ipython3",
   "version": "3.9.12"
  }
 },
 "nbformat": 4,
 "nbformat_minor": 5
}
