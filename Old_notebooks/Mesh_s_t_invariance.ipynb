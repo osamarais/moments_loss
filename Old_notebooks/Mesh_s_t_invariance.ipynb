{
 "cells": [
  {
   "cell_type": "code",
   "execution_count": 1,
   "id": "16eba82c",
   "metadata": {},
   "outputs": [],
   "source": [
    "import pymeshlab\n",
    "import numpy as np"
   ]
  },
  {
   "cell_type": "code",
   "execution_count": 2,
   "id": "1066668a",
   "metadata": {},
   "outputs": [],
   "source": [
    "ms = pymeshlab.MeshSet()\n",
    "\n",
    "ms.load_new_mesh(\"model_normalized.obj\")\n",
    "\n",
    "m = ms.current_mesh()\n",
    "\n",
    "v_matrix = m.vertex_matrix()\n",
    "f_matrix = m.face_matrix()"
   ]
  },
  {
   "cell_type": "markdown",
   "id": "a7f16e81",
   "metadata": {},
   "source": [
    "By default faces are defined and stored in the counter-clockwise order, so should not have any issues calculating the moments"
   ]
  },
  {
   "cell_type": "code",
   "execution_count": 3,
   "id": "4e85c868",
   "metadata": {},
   "outputs": [],
   "source": [
    "def C_ijk(C,i,j,k):\n",
    "    return (C[0]**i)*(C[1]**j)*(C[2]**k)*np.math.factorial(i+j+k)/(np.math.factorial(i)*np.math.factorial(j)*np.math.factorial(k))\n",
    "        \n",
    "\n",
    "def D_ijk(D_tensor,B,C,i,j,k):\n",
    "    if (i<0) or (j<0) or (k<0):\n",
    "        # D_ijk=0\n",
    "        pass\n",
    "    elif (0==i) and (0==j) and (0==k):\n",
    "        # D_ijk = 1\n",
    "        D_tensor[i,j,k] = 1\n",
    "    else:\n",
    "        D_tensor[i,j,k] = B[0]*D_tensor[i-1,j,k]+B[1]*D_tensor[i,j-1,k]+B[2]*D_tensor[i,j,k-1]+C_ijk(C,i,j,k)\n",
    "\n",
    "def S_ijk(S_tensor,D_tensor,A,B,C,i,j,k):\n",
    "    if (i<0) or (j<0) or (k<0):\n",
    "        # S_ijk = 0\n",
    "        pass\n",
    "    elif (0==i) and (0==j) and (0==k):\n",
    "        # S_ijk = 1\n",
    "        S_tensor[i,j,k] = 1\n",
    "    else:\n",
    "        S_tensor[i,j,k] = A[0]*S_tensor[i-1,j,k]+A[1]*S_tensor[i,j-1,k]+A[2]*S_tensor[i,j,k-1]+D_tensor[i,j,k]\n",
    "    \n",
    "        \n",
    "def vol(A,B,C):\n",
    "    return 1./6*np.linalg.det([A,B,C])\n",
    "\n",
    "\n",
    "def M_ijk(f_matrix, v_matrix, max_m):\n",
    "    M_tensor = np.zeros([max_m,max_m,max_m])\n",
    "    \n",
    "    \n",
    "    for face_num in range(len(f_matrix)):\n",
    "        \n",
    "        \n",
    "        # Get the three coordinates A,B,C\n",
    "        # Any mesh library should return these in CCW order\n",
    "        [A,B,C] = v_matrix[f_matrix[face_num]]\n",
    "        \n",
    "        # Calculate the face moments tensor\n",
    "        # Each face moments tensor requires calculating S_ijk, D_ijk, and C_ijk Tensor Calculations.\n",
    "\n",
    "        # C_ijk tensor is not reused, calculate on the fly\n",
    "        \n",
    "        # D_ijk tensor is reused, calculate and store\n",
    "        D_tensor = np.zeros([max_m,max_m,max_m])\n",
    "        for i in range(max_m):\n",
    "            for j in range(max_m):\n",
    "                for k in range(max_m):\n",
    "                    if (i+j+k)<=max_m:\n",
    "                        D_ijk(D_tensor,B,C,i,j,k)\n",
    "                        \n",
    "        # S_ijk tensor is reused, calculate and store\n",
    "        S_tensor = np.zeros([max_m,max_m,max_m])\n",
    "        for i in range(max_m):\n",
    "            for j in range(max_m):\n",
    "                for k in range(max_m):\n",
    "                    if (i+j+k)<=max_m:\n",
    "                        S_ijk(S_tensor,D_tensor,A,B,C,i,j,k)\n",
    "                        \n",
    "        # Now calculate the moments on current face\n",
    "        f_M_tensor = np.zeros([max_m,max_m,max_m])\n",
    "        for i in range(max_m):\n",
    "            for j in range(max_m):\n",
    "                for k in range(max_m):\n",
    "                    if (i+j+k)<=max_m:\n",
    "                        f_M_tensor[i,j,k] = (np.math.factorial(i)*np.math.factorial(j)*np.math.factorial(k))/np.math.factorial(i+j+k+3)*np.linalg.det([A,B,C])*S_tensor[i,j,k]\n",
    "        \n",
    "        # Add contribution to the total moments\n",
    "        M_tensor = M_tensor+f_M_tensor\n",
    "                \n",
    "    return M_tensor\n",
    "\n"
   ]
  },
  {
   "cell_type": "markdown",
   "id": "da79f629",
   "metadata": {},
   "source": [
    "This is the final loss function that gives the scalar."
   ]
  },
  {
   "cell_type": "code",
   "execution_count": 4,
   "id": "f5000c7d",
   "metadata": {},
   "outputs": [],
   "source": [
    "def mesh_moment_loss(f_matrix_1, v_matrix_1, f_matrix_2, v_matrix_2, max_m = 5):\n",
    "    return np.linalg.norm(M_ijk(f_matrix_1, v_matrix_1,max_m)-M_ijk(f_matrix_2, v_matrix_2,max_m))"
   ]
  },
  {
   "cell_type": "code",
   "execution_count": 5,
   "id": "e30fa2d4",
   "metadata": {},
   "outputs": [],
   "source": [
    "# Make it invariant to translation and scaling\n",
    "\n",
    "def mesh_moment_invariant(f_matrix_1, v_matrix_1, max_m = 5):\n",
    "    \n",
    "    # Obtain the scale and centroids of the object\n",
    "    Tensor_1 = M_ijk(f_matrix_1, v_matrix_1,2)\n",
    "    print(Tensor_1)\n",
    "    \n",
    "    v_matrix_1 = np.array(v_matrix_1)\n",
    "    v_matrix_1 = v_matrix_1 / np.cbrt(Tensor_1[0,0,0])\n",
    "    \n",
    "    # Obtain the scale and centroids of the object again for better numerical precision\n",
    "    # Doing this recursively keeps improving precision of the scale and centroids\n",
    "    Tensor_1 = M_ijk(f_matrix_1, v_matrix_1,2)\n",
    "    print(Tensor_1)\n",
    "    \n",
    "    v_matrix_1 = np.array(v_matrix_1)\n",
    "    v_matrix_1 = v_matrix_1 / np.cbrt(Tensor_1[0,0,0])\n",
    "    \n",
    "#     v_matrix_1[:,0] = v_matrix_1[:,0] - Tensor_1[1,0,0]/Tensor_1[0,0,0] \n",
    "#     v_matrix_1[:,1] = v_matrix_1[:,1] - Tensor_1[0,1,0]/Tensor_1[0,0,0] \n",
    "#     v_matrix_1[:,2] = v_matrix_1[:,2] - Tensor_1[0,0,1]/Tensor_1[0,0,0] \n",
    "    \n",
    "\n",
    "    M_1 = M_ijk(f_matrix_1, v_matrix_1,max_m)\n",
    "    \n",
    "#     for i in range(max_m):\n",
    "#             for j in range(max_m):\n",
    "#                 for k in range(max_m):\n",
    "#                     if (i+j+k)<=max_m:\n",
    "#                         M_1[i,j,k] = M_1[i,j,k] / np.power(Tensor_1[0,0,0],(i+j+k+3)/3)\n",
    "    \n",
    "    return M_1"
   ]
  },
  {
   "cell_type": "markdown",
   "id": "5765c831",
   "metadata": {},
   "source": [
    "Note that this loss function is directly comparing the moments.\n",
    "\n",
    "Matching the moment series will make two shapes match each other.\n",
    "\n",
    "However, if we want to make the loss function invariant to scale, translation, and rotation, (or any symmetries) then the invariants of the loss function can be calcuated from the moments tensor we have just calculated.\n",
    "Matching the invariants will make two shapes \"match\" each other without being affected by scale, translation, and rotation.\n",
    "\n",
    "This is easy to implement, will do this next."
   ]
  },
  {
   "cell_type": "code",
   "execution_count": 6,
   "id": "66d60aa6",
   "metadata": {
    "scrolled": false
   },
   "outputs": [
    {
     "name": "stdout",
     "output_type": "stream",
     "text": [
      "[[[-1.98788045e-20  2.92615142e-19]\n",
      "  [ 7.66589633e-21  9.39987369e-21]]\n",
      "\n",
      " [[ 2.54016826e-21 -5.20477551e-23]\n",
      "  [-7.89763615e-23  0.00000000e+00]]]\n",
      "[[[-1.58700684e+02  6.42263040e+07]\n",
      "  [-5.75091200e+06  4.02307573e+13]]\n",
      "\n",
      " [[-1.16475200e+06 -1.31755672e+12]\n",
      "  [ 8.73254093e+10  0.00000000e+00]]]\n"
     ]
    },
    {
     "data": {
      "text/plain": [
       "array([[[-1.35017395e-01, -8.79705000e+04, -3.34200832e+08],\n",
       "        [ 8.69662500e+03,  1.04837120e+09,  5.87311008e+14],\n",
       "        [ 1.69082880e+07, -3.88895867e+13,  0.00000000e+00]],\n",
       "\n",
       "       [[-1.87500000e+02, -1.24810240e+08, -2.66356423e+13],\n",
       "        [ 1.63225600e+07,  6.98885131e+12,  0.00000000e+00],\n",
       "        [-4.38355100e+11,  0.00000000e+00,  0.00000000e+00]],\n",
       "\n",
       "       [[-4.37125120e+07, -2.37038574e+12,  0.00000000e+00],\n",
       "        [ 5.66671442e+11,  0.00000000e+00,  0.00000000e+00],\n",
       "        [ 0.00000000e+00,  0.00000000e+00,  0.00000000e+00]]])"
      ]
     },
     "execution_count": 6,
     "metadata": {},
     "output_type": "execute_result"
    }
   ],
   "source": [
    "mesh_moment_invariant(f_matrix,v_matrix,max_m=3)"
   ]
  },
  {
   "cell_type": "code",
   "execution_count": 5,
   "id": "bfad23cb",
   "metadata": {},
   "outputs": [
    {
     "ename": "SyntaxError",
     "evalue": "invalid syntax (3798961729.py, line 3)",
     "output_type": "error",
     "traceback": [
      "\u001b[0;36m  Input \u001b[0;32mIn [5]\u001b[0;36m\u001b[0m\n\u001b[0;31m    SOMETHING IS WRONG WITH THE MESH\u001b[0m\n\u001b[0m              ^\u001b[0m\n\u001b[0;31mSyntaxError\u001b[0m\u001b[0;31m:\u001b[0m invalid syntax\n"
     ]
    }
   ],
   "source": [
    "M_ijk(f_matrix, v_matrix,4)\n",
    "\n",
    "SOMETHING IS WRONG WITH THE MESH\n",
    "THE VOLUME SHOULD NOT BE NEGATIVE\n",
    "\n",
    "IS PYMESHLAB LIBRARY FOLLOWING THE CCW CONVENTION????"
   ]
  },
  {
   "cell_type": "code",
   "execution_count": null,
   "id": "c97bcf96",
   "metadata": {},
   "outputs": [],
   "source": []
  },
  {
   "cell_type": "code",
   "execution_count": null,
   "id": "49666c2c",
   "metadata": {},
   "outputs": [],
   "source": []
  }
 ],
 "metadata": {
  "kernelspec": {
   "display_name": "Python 3 (ipykernel)",
   "language": "python",
   "name": "python3"
  },
  "language_info": {
   "codemirror_mode": {
    "name": "ipython",
    "version": 3
   },
   "file_extension": ".py",
   "mimetype": "text/x-python",
   "name": "python",
   "nbconvert_exporter": "python",
   "pygments_lexer": "ipython3",
   "version": "3.9.12"
  }
 },
 "nbformat": 4,
 "nbformat_minor": 5
}
