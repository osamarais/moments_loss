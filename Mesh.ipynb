{
 "cells": [
  {
   "cell_type": "code",
   "execution_count": 1,
   "id": "16eba82c",
   "metadata": {},
   "outputs": [],
   "source": [
    "import pymeshlab\n",
    "import numpy as np"
   ]
  },
  {
   "cell_type": "code",
   "execution_count": 2,
   "id": "1066668a",
   "metadata": {},
   "outputs": [],
   "source": [
    "ms = pymeshlab.MeshSet()"
   ]
  },
  {
   "cell_type": "code",
   "execution_count": 3,
   "id": "40bbb82f",
   "metadata": {},
   "outputs": [],
   "source": [
    "ms.load_new_mesh(\"model_normalized.obj\")"
   ]
  },
  {
   "cell_type": "code",
   "execution_count": 4,
   "id": "a88800ea",
   "metadata": {},
   "outputs": [],
   "source": [
    "m = ms.current_mesh()"
   ]
  },
  {
   "cell_type": "code",
   "execution_count": 5,
   "id": "f1e83d57",
   "metadata": {},
   "outputs": [],
   "source": [
    "v_matrix = m.vertex_matrix()"
   ]
  },
  {
   "cell_type": "code",
   "execution_count": 6,
   "id": "42e35cec",
   "metadata": {},
   "outputs": [],
   "source": [
    "f_matrix = m.face_matrix()"
   ]
  },
  {
   "cell_type": "markdown",
   "id": "a7f16e81",
   "metadata": {},
   "source": [
    "By default faces are defined and stored in the counter-clockwise order, so should not have any issues calculating the moments"
   ]
  },
  {
   "cell_type": "code",
   "execution_count": 7,
   "id": "7d752803",
   "metadata": {},
   "outputs": [],
   "source": [
    "# Define the maximum order of moments to be calculated\n",
    "max_m = 5"
   ]
  },
  {
   "cell_type": "code",
   "execution_count": 8,
   "id": "c436228d",
   "metadata": {},
   "outputs": [],
   "source": [
    "def C_ijk(C,i,j,k):\n",
    "    return (C[0]**i)*(C[1]**j)*(C[2]**k)*np.math.factorial(i+j+k)/(np.math.factorial(i)*np.math.factorial(j)*np.math.factorial(k))\n",
    "        "
   ]
  },
  {
   "cell_type": "code",
   "execution_count": 9,
   "id": "20297cdc",
   "metadata": {},
   "outputs": [],
   "source": [
    "def D_ijk(D_tensor,B,C,i,j,k):\n",
    "    if (i<0) or (j<0) or (k<0):\n",
    "        # D_ijk=0\n",
    "        pass\n",
    "    elif (0==i) and (0==j) and (0==k):\n",
    "        # D_ijk = 1\n",
    "        D_tensor[i,j,k] = 1\n",
    "    else:\n",
    "        D_tensor[i,j,k] = B[0]*D_tensor[i-1,j,k]+B[1]*D_tensor[i,j-1,k]+B[2]*D_tensor[i,j,k-1]+C_ijk(C,i,j,k)\n",
    "    "
   ]
  },
  {
   "cell_type": "code",
   "execution_count": 10,
   "id": "50a8dae6",
   "metadata": {},
   "outputs": [],
   "source": [
    "def S_ijk(S_tensor,D_tensor,A,B,C,i,j,k):\n",
    "    if (i<0) or (j<0) or (k<0):\n",
    "        # S_ijk = 0\n",
    "        pass\n",
    "    elif (0==i) and (0==j) and (0==k):\n",
    "        # S_ijk = 1\n",
    "        S_tensor[i,j,k] = 1\n",
    "    else:\n",
    "        S_tensor[i,j,k] = A[0]*S_tensor[i-1,j,k]+A[1]*S_tensor[i,j-1,k]+A[2]*S_tensor[i,j,k-1]+D_tensor[i,j,k]\n",
    "    "
   ]
  },
  {
   "cell_type": "code",
   "execution_count": 11,
   "id": "cf5b3799",
   "metadata": {},
   "outputs": [],
   "source": [
    "def vol(A,B,C):\n",
    "    return 1./6*np.linalg.det([A,B,C])\n"
   ]
  },
  {
   "cell_type": "code",
   "execution_count": 12,
   "id": "5534ee16",
   "metadata": {},
   "outputs": [],
   "source": [
    "def M_ijk(f_matrix, v_matrix, max_m):\n",
    "    M_tensor = np.zeros([max_m,max_m,max_m])\n",
    "    \n",
    "    \n",
    "    for face_num in range(len(f_matrix)):\n",
    "        \n",
    "        \n",
    "        # Get the three coordinates A,B,C\n",
    "        # Any mesh library should return these in CCW order\n",
    "        [A,B,C] = v_matrix[f_matrix[face_num]]\n",
    "        \n",
    "        # Calculate the face moments tensor\n",
    "        # Each face moments tensor requires calculating S_ijk, D_ijk, and C_ijk Tensor Calculations.\n",
    "\n",
    "        # C_ijk tensor is not reused, calculate on the fly\n",
    "        \n",
    "        # D_ijk tensor is reused, calculate and store\n",
    "        D_tensor = np.zeros([max_m,max_m,max_m])\n",
    "        for i in range(max_m):\n",
    "            for j in range(max_m):\n",
    "                for k in range(max_m):\n",
    "                    if (i+j+k)<=max_m:\n",
    "                        D_ijk(D_tensor,B,C,i,j,k)\n",
    "                        \n",
    "        # S_ijk tensor is reqused, calculate and store\n",
    "        S_tensor = np.zeros([max_m,max_m,max_m])\n",
    "        for i in range(max_m):\n",
    "            for j in range(max_m):\n",
    "                for k in range(max_m):\n",
    "                    if (i+j+k)<=max_m:\n",
    "                        S_ijk(S_tensor,D_tensor,A,B,C,i,j,k)\n",
    "                        \n",
    "        # Now calculate the moments on current face\n",
    "        f_M_tensor = np.zeros([max_m,max_m,max_m])\n",
    "        for i in range(max_m):\n",
    "            for j in range(max_m):\n",
    "                for k in range(max_m):\n",
    "                    if (i+j+k)<=max_m:\n",
    "                        f_M_tensor[i,j,k] = (np.math.factorial(i)*np.math.factorial(j)*np.math.factorial(k))/np.math.factorial(i+j+k+3)*np.linalg.det([A,B,C])*S_tensor[i,j,k]\n",
    "        \n",
    "        # Add contribution to the total moments\n",
    "        M_tensor = M_tensor+f_M_tensor\n",
    "                \n",
    "    return M_tensor\n",
    "\n"
   ]
  },
  {
   "cell_type": "code",
   "execution_count": 13,
   "id": "dc066cd1",
   "metadata": {},
   "outputs": [],
   "source": [
    "moments = M_ijk(f_matrix,v_matrix,max_m)"
   ]
  },
  {
   "cell_type": "code",
   "execution_count": 14,
   "id": "cb4d4a15",
   "metadata": {},
   "outputs": [
    {
     "name": "stdout",
     "output_type": "stream",
     "text": [
      "[[[-1.98788045e-20  2.92615142e-19 -3.18467638e-20  3.59965738e-21\n",
      "   -8.04685258e-21]\n",
      "  [ 7.66589633e-21  9.39987369e-21  2.29909681e-21  9.28716225e-23\n",
      "   -1.45913277e-21]\n",
      "  [-2.60303399e-23 -6.53020320e-22 -4.44536878e-23 -1.02610457e-22\n",
      "    0.00000000e+00]\n",
      "  [ 1.41627215e-22  6.63971981e-23 -1.84201167e-23  0.00000000e+00\n",
      "    0.00000000e+00]\n",
      "  [ 4.40449442e-24 -1.60183319e-23  0.00000000e+00  0.00000000e+00\n",
      "    0.00000000e+00]]\n",
      "\n",
      " [[ 2.54016826e-21 -5.20477551e-23 -4.58390537e-23  5.68500879e-23\n",
      "    1.66961464e-23]\n",
      "  [-7.89763615e-23  2.63057975e-24 -7.89199169e-24 -3.66437881e-24\n",
      "    0.00000000e+00]\n",
      "  [-2.21618165e-24  1.00555153e-24  4.95650773e-25  0.00000000e+00\n",
      "    0.00000000e+00]\n",
      "  [ 1.24319430e-24 -1.16382227e-25  0.00000000e+00  0.00000000e+00\n",
      "    0.00000000e+00]\n",
      "  [ 7.53803927e-26  0.00000000e+00  0.00000000e+00  0.00000000e+00\n",
      "    0.00000000e+00]]\n",
      "\n",
      " [[-4.26256509e-22  2.18435458e-23 -3.87191865e-24 -1.11936996e-25\n",
      "    0.00000000e+00]\n",
      "  [-8.90072390e-24 -5.02409733e-26  1.09485216e-25  0.00000000e+00\n",
      "    0.00000000e+00]\n",
      "  [ 3.19539154e-25 -6.40239511e-27  0.00000000e+00  0.00000000e+00\n",
      "    0.00000000e+00]\n",
      "  [-1.08182412e-26  0.00000000e+00  0.00000000e+00  0.00000000e+00\n",
      "    0.00000000e+00]\n",
      "  [ 0.00000000e+00  0.00000000e+00  0.00000000e+00  0.00000000e+00\n",
      "    0.00000000e+00]]\n",
      "\n",
      " [[-6.54312789e-26  1.32449746e-26  1.10095400e-27  0.00000000e+00\n",
      "    0.00000000e+00]\n",
      "  [ 1.44116999e-26 -6.51253981e-27  0.00000000e+00  0.00000000e+00\n",
      "    0.00000000e+00]\n",
      "  [ 1.05352374e-27  0.00000000e+00  0.00000000e+00  0.00000000e+00\n",
      "    0.00000000e+00]\n",
      "  [ 0.00000000e+00  0.00000000e+00  0.00000000e+00  0.00000000e+00\n",
      "    0.00000000e+00]\n",
      "  [ 0.00000000e+00  0.00000000e+00  0.00000000e+00  0.00000000e+00\n",
      "    0.00000000e+00]]\n",
      "\n",
      " [[-2.26878270e-25  4.13827556e-26  0.00000000e+00  0.00000000e+00\n",
      "    0.00000000e+00]\n",
      "  [-7.75712196e-27  0.00000000e+00  0.00000000e+00  0.00000000e+00\n",
      "    0.00000000e+00]\n",
      "  [ 0.00000000e+00  0.00000000e+00  0.00000000e+00  0.00000000e+00\n",
      "    0.00000000e+00]\n",
      "  [ 0.00000000e+00  0.00000000e+00  0.00000000e+00  0.00000000e+00\n",
      "    0.00000000e+00]\n",
      "  [ 0.00000000e+00  0.00000000e+00  0.00000000e+00  0.00000000e+00\n",
      "    0.00000000e+00]]]\n"
     ]
    }
   ],
   "source": [
    "print(moments)"
   ]
  }
 ],
 "metadata": {
  "kernelspec": {
   "display_name": "Python 3 (ipykernel)",
   "language": "python",
   "name": "python3"
  },
  "language_info": {
   "codemirror_mode": {
    "name": "ipython",
    "version": 3
   },
   "file_extension": ".py",
   "mimetype": "text/x-python",
   "name": "python",
   "nbconvert_exporter": "python",
   "pygments_lexer": "ipython3",
   "version": "3.9.12"
  }
 },
 "nbformat": 4,
 "nbformat_minor": 5
}
