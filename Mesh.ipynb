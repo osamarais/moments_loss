{
 "cells": [
  {
   "cell_type": "code",
   "execution_count": 1,
   "id": "16eba82c",
   "metadata": {},
   "outputs": [],
   "source": [
    "import pymeshlab\n",
    "import numpy as np"
   ]
  },
  {
   "cell_type": "code",
   "execution_count": 2,
   "id": "1066668a",
   "metadata": {},
   "outputs": [],
   "source": [
    "ms = pymeshlab.MeshSet()\n",
    "\n",
    "ms.load_new_mesh(\"model_normalized.obj\")\n",
    "\n",
    "m = ms.current_mesh()\n",
    "\n",
    "v_matrix = m.vertex_matrix()\n",
    "f_matrix = m.face_matrix()"
   ]
  },
  {
   "cell_type": "markdown",
   "id": "a7f16e81",
   "metadata": {},
   "source": [
    "By default faces are defined and stored in the counter-clockwise order, so should not have any issues calculating the moments"
   ]
  },
  {
   "cell_type": "code",
   "execution_count": 3,
   "id": "4e85c868",
   "metadata": {},
   "outputs": [],
   "source": [
    "def C_ijk(C,i,j,k):\n",
    "    return (C[0]**i)*(C[1]**j)*(C[2]**k)*np.math.factorial(i+j+k)/(np.math.factorial(i)*np.math.factorial(j)*np.math.factorial(k))\n",
    "        \n",
    "\n",
    "def D_ijk(D_tensor,B,C,i,j,k):\n",
    "    if (i<0) or (j<0) or (k<0):\n",
    "        # D_ijk=0\n",
    "        pass\n",
    "    elif (0==i) and (0==j) and (0==k):\n",
    "        # D_ijk = 1\n",
    "        D_tensor[i,j,k] = 1\n",
    "    else:\n",
    "        D_tensor[i,j,k] = B[0]*D_tensor[i-1,j,k]+B[1]*D_tensor[i,j-1,k]+B[2]*D_tensor[i,j,k-1]+C_ijk(C,i,j,k)\n",
    "\n",
    "def S_ijk(S_tensor,D_tensor,A,B,C,i,j,k):\n",
    "    if (i<0) or (j<0) or (k<0):\n",
    "        # S_ijk = 0\n",
    "        pass\n",
    "    elif (0==i) and (0==j) and (0==k):\n",
    "        # S_ijk = 1\n",
    "        S_tensor[i,j,k] = 1\n",
    "    else:\n",
    "        S_tensor[i,j,k] = A[0]*S_tensor[i-1,j,k]+A[1]*S_tensor[i,j-1,k]+A[2]*S_tensor[i,j,k-1]+D_tensor[i,j,k]\n",
    "    \n",
    "        \n",
    "def vol(A,B,C):\n",
    "    return 1./6*np.linalg.det([A,B,C])\n",
    "\n",
    "\n",
    "def M_ijk(f_matrix, v_matrix, max_m):\n",
    "    M_tensor = np.zeros([max_m,max_m,max_m])\n",
    "    \n",
    "    \n",
    "    for face_num in range(len(f_matrix)):\n",
    "        \n",
    "        \n",
    "        # Get the three coordinates A,B,C\n",
    "        # Any mesh library should return these in CCW order\n",
    "        [A,B,C] = v_matrix[f_matrix[face_num]]\n",
    "        \n",
    "        # Calculate the face moments tensor\n",
    "        # Each face moments tensor requires calculating S_ijk, D_ijk, and C_ijk Tensor Calculations.\n",
    "\n",
    "        # C_ijk tensor is not reused, calculate on the fly\n",
    "        \n",
    "        # D_ijk tensor is reused, calculate and store\n",
    "        D_tensor = np.zeros([max_m,max_m,max_m])\n",
    "        for i in range(max_m):\n",
    "            for j in range(max_m):\n",
    "                for k in range(max_m):\n",
    "                    if (i+j+k)<=max_m:\n",
    "                        D_ijk(D_tensor,B,C,i,j,k)\n",
    "                        \n",
    "        # S_ijk tensor is reqused, calculate and store\n",
    "        S_tensor = np.zeros([max_m,max_m,max_m])\n",
    "        for i in range(max_m):\n",
    "            for j in range(max_m):\n",
    "                for k in range(max_m):\n",
    "                    if (i+j+k)<=max_m:\n",
    "                        S_ijk(S_tensor,D_tensor,A,B,C,i,j,k)\n",
    "                        \n",
    "        # Now calculate the moments on current face\n",
    "        f_M_tensor = np.zeros([max_m,max_m,max_m])\n",
    "        for i in range(max_m):\n",
    "            for j in range(max_m):\n",
    "                for k in range(max_m):\n",
    "                    if (i+j+k)<=max_m:\n",
    "                        f_M_tensor[i,j,k] = (np.math.factorial(i)*np.math.factorial(j)*np.math.factorial(k))/np.math.factorial(i+j+k+3)*np.linalg.det([A,B,C])*S_tensor[i,j,k]\n",
    "        \n",
    "        # Add contribution to the total moments\n",
    "        M_tensor = M_tensor+f_M_tensor\n",
    "                \n",
    "    return M_tensor\n",
    "\n"
   ]
  },
  {
   "cell_type": "markdown",
   "id": "da79f629",
   "metadata": {},
   "source": [
    "This is the final loss function that gives the scalar."
   ]
  },
  {
   "cell_type": "code",
   "execution_count": 4,
   "id": "f5000c7d",
   "metadata": {},
   "outputs": [],
   "source": [
    "def mesh_moment_loss(f_matrix_1, v_matrix_1, f_matrix_2, v_matrix_2, max_m = 5):\n",
    "    return np.linalg.norm(M_ijk(f_matrix_1, v_matrix_1,max_m)-M_ijk(f_matrix_1, v_matrix_1,max_m))"
   ]
  },
  {
   "cell_type": "markdown",
   "id": "5765c831",
   "metadata": {},
   "source": [
    "Note that this loss function is directly comparing the moments.\n",
    "\n",
    "Matching the moment series will make two shapes match each other.\n",
    "\n",
    "However, if we want to make the loss function invariant to scale, translation, and rotation, (or any symmetries) then the invariants of the loss function can be calcuated from the moments tensor we have just calculated.\n",
    "Matching the invariants will make two shapes \"match\" each other without being affected by scale, translation, and rotation.\n",
    "\n",
    "This is easy to implement, will do this next."
   ]
  },
  {
   "cell_type": "markdown",
   "id": "d86f8f74",
   "metadata": {},
   "source": [
    "When two objects are the exact same, the loss function is supposed to be 0"
   ]
  },
  {
   "cell_type": "code",
   "execution_count": 5,
   "id": "66d60aa6",
   "metadata": {
    "scrolled": true
   },
   "outputs": [
    {
     "data": {
      "text/plain": [
       "0.0"
      ]
     },
     "execution_count": 5,
     "metadata": {},
     "output_type": "execute_result"
    }
   ],
   "source": [
    "mesh_moment_loss(f_matrix,v_matrix,f_matrix,v_matrix,max_m=5)"
   ]
  }
 ],
 "metadata": {
  "kernelspec": {
   "display_name": "Python 3 (ipykernel)",
   "language": "python",
   "name": "python3"
  },
  "language_info": {
   "codemirror_mode": {
    "name": "ipython",
    "version": 3
   },
   "file_extension": ".py",
   "mimetype": "text/x-python",
   "name": "python",
   "nbconvert_exporter": "python",
   "pygments_lexer": "ipython3",
   "version": "3.9.12"
  }
 },
 "nbformat": 4,
 "nbformat_minor": 5
}
