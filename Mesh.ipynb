{
 "cells": [
  {
   "cell_type": "code",
   "execution_count": 1,
   "id": "16eba82c",
   "metadata": {},
   "outputs": [],
   "source": [
    "import pymeshlab\n",
    "import numpy as np"
   ]
  },
  {
   "cell_type": "code",
   "execution_count": 2,
   "id": "1066668a",
   "metadata": {},
   "outputs": [],
   "source": [
    "ms = pymeshlab.MeshSet()\n",
    "\n",
    "ms.load_new_mesh(\"model_normalized.obj\")\n",
    "\n",
    "m = ms.current_mesh()\n",
    "\n",
    "v_matrix = m.vertex_matrix()\n",
    "f_matrix = m.face_matrix()"
   ]
  },
  {
   "cell_type": "markdown",
   "id": "a7f16e81",
   "metadata": {},
   "source": [
    "By default faces are defined and stored in the counter-clockwise order, so should not have any issues calculating the moments"
   ]
  },
  {
   "cell_type": "code",
   "execution_count": 3,
   "id": "53d3e562",
   "metadata": {},
   "outputs": [],
   "source": [
    "def M_ijk_numpy(f_matrix,v_matrix,max_m):\n",
    "    num_faces = len(f_matrix)\n",
    "    \n",
    "    # Extract coordinates\n",
    "    A = np.zeros([num_faces,3])\n",
    "    B = np.zeros([num_faces,3])\n",
    "    C = np.zeros([num_faces,3])\n",
    "    for face_num in range(num_faces):\n",
    "        [A[face_num,:],B[face_num,:],C[face_num,:]] = v_matrix[f_matrix[face_num]]\n",
    "    # Calculate Determinants\n",
    "    dets = np.linalg.det([[A[i],B[i],C[i]] for i in range(len(f_matrix))])\n",
    "    \n",
    "    # Allocate Tensors\n",
    "    M_tensor = np.zeros([num_faces,max_m,max_m,max_m])\n",
    "    C_tensor = np.zeros([num_faces,max_m,max_m,max_m])\n",
    "    D_tensor = np.zeros([num_faces,max_m,max_m,max_m])\n",
    "    S_tensor = np.zeros([num_faces,max_m,max_m,max_m])\n",
    "    \n",
    "    # Calculate C Tensor, parallellized over faces\n",
    "    for i in range(max_m):\n",
    "            for j in range(max_m):\n",
    "                for k in range(max_m):\n",
    "                    if (i+j+k)<=max_m:\n",
    "                        C_tensor[:,i,j,k] = (C[:,0]**i)*(C[:,1]**j)*(C[:,2]**k)*(np.math.factorial(i+j+k)/(np.math.factorial(i)*np.math.factorial(j)*np.math.factorial(k)))\n",
    "                        \n",
    "    # Calculate D Tensor, parallellized over faces\n",
    "    for i in range(max_m):\n",
    "            for j in range(max_m):\n",
    "                for k in range(max_m):\n",
    "                    if (i+j+k)<=max_m:\n",
    "                        if (i<0) or (j<0) or (k<0):\n",
    "                            # D_ijk=0\n",
    "                            pass\n",
    "                        elif (0==i) and (0==j) and (0==k):\n",
    "                            # D_ijk = 1\n",
    "                            D_tensor[:,i,j,k] = 1\n",
    "                        else:\n",
    "                            D_tensor[:,i,j,k] = B[:,0]*D_tensor[:,i-1,j,k]+B[:,1]*D_tensor[:,i,j-1,k]+B[:,2]*D_tensor[:,i,j,k-1]+C_tensor[:,i,j,k]\n",
    "    \n",
    "    \n",
    "    # Calculate S Tensor, parallellized over faces\n",
    "    for i in range(max_m):\n",
    "            for j in range(max_m):\n",
    "                for k in range(max_m):\n",
    "                    if (i+j+k)<=max_m:\n",
    "                        if (i<0) or (j<0) or (k<0):\n",
    "                            # S_ijk = 0\n",
    "                            pass\n",
    "                        elif (0==i) and (0==j) and (0==k):\n",
    "                            # S_ijk = 1\n",
    "                            S_tensor[:,i,j,k] = 1\n",
    "                        else:\n",
    "                            S_tensor[:,i,j,k] = A[:,0]*S_tensor[:,i-1,j,k]+A[:,1]*S_tensor[:,i,j-1,k]+A[:,2]*S_tensor[:,i,j,k-1]+D_tensor[:,i,j,k]\n",
    "        \n",
    "    # Calculate M Tensor, parallellized over faces\n",
    "    for i in range(max_m):\n",
    "        for j in range(max_m):\n",
    "            for k in range(max_m):\n",
    "                if (i+j+k)<=max_m:\n",
    "                    M_tensor[:,i,j,k] = ((np.math.factorial(i)*np.math.factorial(j)*np.math.factorial(k))/np.math.factorial(i+j+k+3))*dets[:]*S_tensor[:,i,j,k]\n",
    "    return np.sum(M_tensor,axis=0)\n",
    "#      M_tensor = M_tensor\n",
    "#     return M_tensor\n",
    "\n",
    "                        \n",
    "    \n",
    "    "
   ]
  },
  {
   "cell_type": "code",
   "execution_count": 4,
   "id": "97c75028",
   "metadata": {},
   "outputs": [],
   "source": [
    "# Pytorch Implementation\n",
    "import torch\n",
    "from math import factorial\n",
    "\n",
    "from pytorch3d.io import load_obj\n",
    "\n",
    "def M_ijk_torch(f_matrix,v_matrix,max_m):\n",
    "    num_faces = len(f_matrix)\n",
    "    \n",
    "    # Extract coordinates\n",
    "    ABC = v_matrix[f_matrix]\n",
    "    # Calculate Determinants\n",
    "    dets = torch.det(ABC)\n",
    "    \n",
    "    # Allocate Tensors\n",
    "    M_tensor = torch.zeros([num_faces,max_m,max_m,max_m],dtype=torch.float64)\n",
    "    C_tensor = torch.zeros([num_faces,max_m,max_m,max_m],dtype=torch.float64)\n",
    "    D_tensor = torch.zeros([num_faces,max_m,max_m,max_m],dtype=torch.float64)\n",
    "    S_tensor = torch.zeros([num_faces,max_m,max_m,max_m],dtype=torch.float64)\n",
    "    \n",
    "    # Calculate C Tensor, parallellized over faces\n",
    "    for i in range(max_m):\n",
    "            for j in range(max_m):\n",
    "                for k in range(max_m):\n",
    "                    if (i+j+k)<=max_m:\n",
    "                        C_tensor[:,i,j,k] = (ABC[:,2][:,0]**i)*(ABC[:,2][:,1]**j)*(ABC[:,2][:,2]**k)*(factorial(i+j+k)/(factorial(i)*factorial(j)*factorial(k)))\n",
    "                        \n",
    "    # Calculate D Tensor, parallellized over faces\n",
    "    for i in range(max_m):\n",
    "            for j in range(max_m):\n",
    "                for k in range(max_m):\n",
    "                    if (i+j+k)<=max_m:\n",
    "                        if (i<0) or (j<0) or (k<0):\n",
    "                            # D_ijk=0\n",
    "                            pass\n",
    "                        elif (0==i) and (0==j) and (0==k):\n",
    "                            # D_ijk = 1\n",
    "                            D_tensor[:,i,j,k] = 1\n",
    "                        else:\n",
    "                            D_tensor[:,i,j,k] = ABC[:,1][:,0]*D_tensor[:,i-1,j,k]+ABC[:,1][:,1]*D_tensor[:,i,j-1,k]+ABC[:,1][:,2]*D_tensor[:,i,j,k-1]+C_tensor[:,i,j,k]\n",
    "    \n",
    "    \n",
    "    # Calculate S Tensor, parallellized over faces\n",
    "    for i in range(max_m):\n",
    "            for j in range(max_m):\n",
    "                for k in range(max_m):\n",
    "                    if (i+j+k)<=max_m:\n",
    "                        if (i<0) or (j<0) or (k<0):\n",
    "                            # S_ijk = 0\n",
    "                            pass\n",
    "                        elif (0==i) and (0==j) and (0==k):\n",
    "                            # S_ijk = 1\n",
    "                            S_tensor[:,i,j,k] = 1\n",
    "                        else:\n",
    "                            S_tensor[:,i,j,k] = ABC[:,0][:,0]*S_tensor[:,i-1,j,k]+ABC[:,0][:,1]*S_tensor[:,i,j-1,k]+ABC[:,0][:,2]*S_tensor[:,i,j,k-1]+D_tensor[:,i,j,k]\n",
    "        \n",
    "    # Calculate M Tensor, parallellized over faces\n",
    "    for i in range(max_m):\n",
    "        for j in range(max_m):\n",
    "            for k in range(max_m):\n",
    "                if (i+j+k)<=max_m:\n",
    "                    M_tensor[:,i,j,k] = ((factorial(i)*factorial(j)*factorial(k))/factorial(i+j+k+3))*(dets[:]*S_tensor[:,i,j,k])\n",
    "                    \n",
    "    return torch.sum(M_tensor,0)\n",
    "    \n",
    "\n",
    "# M_ijk_torch(torch.tensor(f_matrix,dtype=torch.long),torch.tensor(v_matrix),3)"
   ]
  },
  {
   "cell_type": "markdown",
   "id": "da79f629",
   "metadata": {},
   "source": [
    "This is the final loss function that gives the scalar."
   ]
  },
  {
   "cell_type": "code",
   "execution_count": 5,
   "id": "5dc37e84",
   "metadata": {},
   "outputs": [
    {
     "data": {
      "text/plain": [
       "tensor(3.9622e-19, dtype=torch.float64)"
      ]
     },
     "execution_count": 5,
     "metadata": {},
     "output_type": "execute_result"
    }
   ],
   "source": [
    "# Compare the two implementations\n",
    "max_m = 10\n",
    "torch.linalg.norm(M_ijk_torch(torch.tensor(f_matrix,dtype=torch.long),torch.tensor(v_matrix),max_m) - torch.tensor(M_ijk_numpy(f_matrix,v_matrix,max_m)))"
   ]
  },
  {
   "cell_type": "code",
   "execution_count": 6,
   "id": "f5000c7d",
   "metadata": {},
   "outputs": [],
   "source": [
    "def moment_loss_numpy(f_matrix_1, v_matrix_1, f_matrix_2, v_matrix_2, max_m = 5):\n",
    "    return np.linalg.norm(M_ijk_numpy(f_matrix_1, v_matrix_1,max_m)-M_ijk_numpy(f_matrix_2, v_matrix_2,max_m))"
   ]
  },
  {
   "cell_type": "markdown",
   "id": "c7310dce",
   "metadata": {},
   "source": [
    "The moments, and correspondingly the moment loss, can be made invariant to translation and scaling.\n",
    "This can easily done by shifting and scaling the coordinates.\n",
    "\n",
    "THIS IS NOT WORKING PROPERLY RIGHT NOW!\n",
    "The issue seems to be with the pymeshlab library, which is supposed to load the mesh with the face vertices ordered CCW when viewed from the outside of the object.\n",
    "Find another library that follows this rule."
   ]
  },
  {
   "cell_type": "code",
   "execution_count": 7,
   "id": "e30fa2d4",
   "metadata": {},
   "outputs": [],
   "source": [
    "# Make it invariant to translation and scaling\n",
    "\n",
    "def mesh_moment_invariant(f_matrix_1, v_matrix_1, max_m = 5):\n",
    "    \n",
    "    # Obtain the scale and centroids of the object\n",
    "    Tensor_1 = M_ijk_fast(f_matrix_1, v_matrix_1,2)\n",
    "    print(Tensor_1)\n",
    "    \n",
    "    v_matrix_1 = np.array(v_matrix_1)\n",
    "    \n",
    "    v_matrix_1 = v_matrix_1 / np.cbrt(Tensor_1[0,0,0])\n",
    "#     v_matrix_1[:,0] = v_matrix_1[:,0] - Tensor_1[1,0,0]/Tensor_1[0,0,0] \n",
    "#     v_matrix_1[:,1] = v_matrix_1[:,1] - Tensor_1[0,1,0]/Tensor_1[0,0,0] \n",
    "#     v_matrix_1[:,2] = v_matrix_1[:,2] - Tensor_1[0,0,1]/Tensor_1[0,0,0] \n",
    "    \n",
    "    # Obtain the scale and centroids of the object again for better numerical precision\n",
    "    # Doing this recursively keeps improving precision of the scale and centroids\n",
    "    Tensor_2 = M_ijk_fast(f_matrix_1, v_matrix_1,2)\n",
    "    print(Tensor_2)\n",
    "    \n",
    "    v_matrix_1 = v_matrix_1 / np.cbrt(Tensor_1[0,0,0])\n",
    "#     v_matrix_1[:,0] = v_matrix_1[:,0] - Tensor_1[1,0,0]/Tensor_1[0,0,0] \n",
    "#     v_matrix_1[:,1] = v_matrix_1[:,1] - Tensor_1[0,1,0]/Tensor_1[0,0,0] \n",
    "#     v_matrix_1[:,2] = v_matrix_1[:,2] - Tensor_1[0,0,1]/Tensor_1[0,0,0] \n",
    "    \n",
    "\n",
    "    M_1 = M_ijk_fast(f_matrix_1, v_matrix_1,max_m)\n",
    "    \n",
    "#     for i in range(max_m):\n",
    "#             for j in range(max_m):\n",
    "#                 for k in range(max_m):\n",
    "#                     if (i+j+k)<=max_m:\n",
    "#                         M_1[i,j,k] = M_1[i,j,k] / np.power(Tensor_1[0,0,0],(i+j+k+3)/3)\n",
    "    \n",
    "    return M_1"
   ]
  },
  {
   "cell_type": "markdown",
   "id": "5765c831",
   "metadata": {},
   "source": [
    "Note that this loss function is directly comparing the moments.\n",
    "\n",
    "Matching the moment series will make two shapes match each other.\n",
    "\n",
    "However, if we want to make the loss function invariant to scale, translation, and rotation, (or any symmetries) then the invariants of the loss function can be calcuated from the moments tensor we have just calculated.\n",
    "Matching the invariants will make two shapes \"match\" each other without being affected by scale, translation, and rotation.\n",
    "\n",
    "This is easy to implement, will do this next."
   ]
  },
  {
   "cell_type": "code",
   "execution_count": 8,
   "id": "66d60aa6",
   "metadata": {
    "scrolled": false
   },
   "outputs": [],
   "source": [
    "# mesh_moment_invariant(f_matrix,v_matrix,max_m=3)"
   ]
  },
  {
   "cell_type": "code",
   "execution_count": null,
   "id": "c97bcf96",
   "metadata": {},
   "outputs": [],
   "source": []
  },
  {
   "cell_type": "code",
   "execution_count": null,
   "id": "9bc5586b",
   "metadata": {},
   "outputs": [],
   "source": []
  },
  {
   "cell_type": "code",
   "execution_count": 9,
   "id": "2df62d40",
   "metadata": {},
   "outputs": [
    {
     "name": "stdout",
     "output_type": "stream",
     "text": [
      "209 ms ± 510 µs per loop (mean ± std. dev. of 7 runs, 1 loop each)\n"
     ]
    }
   ],
   "source": [
    "%timeit M_ijk_numpy(f_matrix,v_matrix,10)"
   ]
  },
  {
   "cell_type": "code",
   "execution_count": null,
   "id": "7afae9c2",
   "metadata": {},
   "outputs": [],
   "source": []
  },
  {
   "cell_type": "code",
   "execution_count": null,
   "id": "11606b92",
   "metadata": {},
   "outputs": [],
   "source": []
  },
  {
   "cell_type": "code",
   "execution_count": null,
   "id": "b655468b",
   "metadata": {},
   "outputs": [],
   "source": []
  }
 ],
 "metadata": {
  "kernelspec": {
   "display_name": "Python 3 (ipykernel)",
   "language": "python",
   "name": "python3"
  },
  "language_info": {
   "codemirror_mode": {
    "name": "ipython",
    "version": 3
   },
   "file_extension": ".py",
   "mimetype": "text/x-python",
   "name": "python",
   "nbconvert_exporter": "python",
   "pygments_lexer": "ipython3",
   "version": "3.9.12"
  }
 },
 "nbformat": 4,
 "nbformat_minor": 5
}
