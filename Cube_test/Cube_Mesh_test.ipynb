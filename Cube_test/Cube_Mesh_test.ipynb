{
 "cells": [
  {
   "cell_type": "markdown",
   "id": "7ff49b89",
   "metadata": {},
   "source": [
    "This code tests whether the implemented function is actually working properly or not\n",
    "\n",
    "It does this by calculating the moments over a unit cube with vertices (0,0,0) and (1,1,1) and edges aligned with axes and comparing with the analytical exact solution of the moments which is:\n",
    "\n",
    "1/((i+1)*(j+1)*(k+1))"
   ]
  },
  {
   "cell_type": "code",
   "execution_count": 1,
   "id": "16eba82c",
   "metadata": {},
   "outputs": [],
   "source": [
    "import pymeshlab\n",
    "import numpy as np"
   ]
  },
  {
   "cell_type": "code",
   "execution_count": 2,
   "id": "40bbb82f",
   "metadata": {},
   "outputs": [],
   "source": [
    "# Create a cube meshed with triangles\n",
    "m = pymeshlab.Mesh(\n",
    "    vertex_matrix = [\n",
    "        [0, 0, 0],\n",
    "        [0, 0, 1],\n",
    "        [0, 1 ,0],\n",
    "        [0, 1, 1],\n",
    "        [1, 0, 0],\n",
    "        [1, 0, 1],\n",
    "        [1, 1 ,0],\n",
    "        [1, 1 ,1]\n",
    "    ],\n",
    "    face_matrix = [\n",
    "        [0,2,4],\n",
    "        [4,2,6],\n",
    "        [0,1,3],\n",
    "        [0,3,2],\n",
    "        [0,5,1],\n",
    "        [0,4,5],\n",
    "        [1,7,3],\n",
    "        [1,5,7],\n",
    "        [4,7,5],\n",
    "        [4,6,7],\n",
    "        [7,6,2],\n",
    "        [7,2,3]\n",
    "    ])"
   ]
  },
  {
   "cell_type": "code",
   "execution_count": 3,
   "id": "f1e83d57",
   "metadata": {},
   "outputs": [],
   "source": [
    "v_matrix = m.vertex_matrix()"
   ]
  },
  {
   "cell_type": "code",
   "execution_count": 4,
   "id": "42e35cec",
   "metadata": {},
   "outputs": [],
   "source": [
    "f_matrix = m.face_matrix()"
   ]
  },
  {
   "cell_type": "code",
   "execution_count": 5,
   "id": "17e76329",
   "metadata": {},
   "outputs": [
    {
     "data": {
      "text/plain": [
       "array([[1, 3, 5],\n",
       "       [5, 3, 7],\n",
       "       [1, 2, 4],\n",
       "       [1, 4, 3],\n",
       "       [1, 6, 2],\n",
       "       [1, 5, 6],\n",
       "       [2, 8, 4],\n",
       "       [2, 6, 8],\n",
       "       [5, 8, 6],\n",
       "       [5, 7, 8],\n",
       "       [8, 7, 3],\n",
       "       [8, 3, 4]], dtype=int32)"
      ]
     },
     "execution_count": 5,
     "metadata": {},
     "output_type": "execute_result"
    }
   ],
   "source": [
    "np.array(f_matrix)+1"
   ]
  },
  {
   "cell_type": "markdown",
   "id": "a7f16e81",
   "metadata": {},
   "source": [
    "By default faces are defined and stored in the counter-clockwise order, so should not have any issues calculating the moments"
   ]
  },
  {
   "cell_type": "code",
   "execution_count": 6,
   "id": "7d752803",
   "metadata": {},
   "outputs": [],
   "source": [
    "# Define the maximum order of moments to be calculated\n",
    "max_m = 10"
   ]
  },
  {
   "cell_type": "code",
   "execution_count": 7,
   "id": "c436228d",
   "metadata": {},
   "outputs": [],
   "source": [
    "def C_ijk(C,i,j,k):\n",
    "    return (C[0]**i)*(C[1]**j)*(C[2]**k)*np.math.factorial(i+j+k)/(np.math.factorial(i)*np.math.factorial(j)*np.math.factorial(k))\n",
    "        "
   ]
  },
  {
   "cell_type": "code",
   "execution_count": 8,
   "id": "20297cdc",
   "metadata": {},
   "outputs": [],
   "source": [
    "def D_ijk(D_tensor,B,C,i,j,k):\n",
    "    if (i<0) or (j<0) or (k<0):\n",
    "        # D_ijk=0\n",
    "        pass\n",
    "    elif (0==i) and (0==j) and (0==k):\n",
    "        # D_ijk = 1\n",
    "        D_tensor[i,j,k] = 1\n",
    "    else:\n",
    "        D_tensor[i,j,k] = B[0]*D_tensor[i-1,j,k]+B[1]*D_tensor[i,j-1,k]+B[2]*D_tensor[i,j,k-1]+C_ijk(C,i,j,k)\n",
    "    "
   ]
  },
  {
   "cell_type": "code",
   "execution_count": 9,
   "id": "50a8dae6",
   "metadata": {},
   "outputs": [],
   "source": [
    "def S_ijk(S_tensor,D_tensor,A,B,C,i,j,k):\n",
    "    if (i<0) or (j<0) or (k<0):\n",
    "        # S_ijk = 0\n",
    "        pass\n",
    "    elif (0==i) and (0==j) and (0==k):\n",
    "        # S_ijk = 1\n",
    "        S_tensor[i,j,k] = 1\n",
    "    else:\n",
    "        S_tensor[i,j,k] = A[0]*S_tensor[i-1,j,k]+A[1]*S_tensor[i,j-1,k]+A[2]*S_tensor[i,j,k-1]+D_tensor[i,j,k]\n",
    "    "
   ]
  },
  {
   "cell_type": "code",
   "execution_count": 10,
   "id": "cf5b3799",
   "metadata": {},
   "outputs": [],
   "source": [
    "def vol(A,B,C):\n",
    "    return 1./6*np.linalg.det([A,B,C])\n"
   ]
  },
  {
   "cell_type": "code",
   "execution_count": 11,
   "id": "5534ee16",
   "metadata": {},
   "outputs": [],
   "source": [
    "def M_ijk(f_matrix, v_matrix, max_m):\n",
    "    M_tensor = np.zeros([max_m,max_m,max_m])\n",
    "    \n",
    "    \n",
    "    for face_num in range(len(f_matrix)):\n",
    "        \n",
    "        \n",
    "        # Get the three coordinates A,B,C\n",
    "        # Any mesh library should return these in CCW order\n",
    "        [A,B,C] = v_matrix[f_matrix[face_num]]\n",
    "        \n",
    "        # Calculate the face moments tensor\n",
    "        # Each face moments tensor requires calculating S_ijk, D_ijk, and C_ijk Tensor Calculations.\n",
    "\n",
    "        # C_ijk tensor is not reused, calculate on the fly\n",
    "        \n",
    "        # D_ijk tensor is reused, calculate and store\n",
    "        D_tensor = np.zeros([max_m,max_m,max_m])\n",
    "        for i in range(max_m):\n",
    "            for j in range(max_m):\n",
    "                for k in range(max_m):\n",
    "                    if (i+j+k)<=max_m:\n",
    "                        D_ijk(D_tensor,B,C,i,j,k)\n",
    "                        \n",
    "        # S_ijk tensor is reqused, calculate and store\n",
    "        S_tensor = np.zeros([max_m,max_m,max_m])\n",
    "        for i in range(max_m):\n",
    "            for j in range(max_m):\n",
    "                for k in range(max_m):\n",
    "                    if (i+j+k)<=max_m:\n",
    "                        S_ijk(S_tensor,D_tensor,A,B,C,i,j,k)\n",
    "                        \n",
    "        # Now calculate the moments on current face\n",
    "        f_M_tensor = np.zeros([max_m,max_m,max_m])\n",
    "        for i in range(max_m):\n",
    "            for j in range(max_m):\n",
    "                for k in range(max_m):\n",
    "                    if (i+j+k)<=max_m:\n",
    "                        f_M_tensor[i,j,k] = (np.math.factorial(i)*np.math.factorial(j)*np.math.factorial(k))/np.math.factorial(i+j+k+3)*np.linalg.det([A,B,C])*S_tensor[i,j,k]\n",
    "        \n",
    "        # Add contribution to the total moments\n",
    "        M_tensor = M_tensor+f_M_tensor\n",
    "                \n",
    "    return M_tensor\n",
    "\n"
   ]
  },
  {
   "cell_type": "code",
   "execution_count": 12,
   "id": "f14f7ec2",
   "metadata": {},
   "outputs": [],
   "source": [
    "def M_ijk_fast(f_matrix,v_matrix,max_m):\n",
    "    num_faces = len(f_matrix)\n",
    "    \n",
    "    # Extract coordinates\n",
    "    A = np.zeros([num_faces,3])\n",
    "    B = np.zeros([num_faces,3])\n",
    "    C = np.zeros([num_faces,3])\n",
    "    for face_num in range(num_faces):\n",
    "        [A[face_num,:],B[face_num,:],C[face_num,:]] = v_matrix[f_matrix[face_num]]\n",
    "    # Calculate Determinants\n",
    "    dets = np.linalg.det([[A[i],B[i],C[i]] for i in range(len(f_matrix))])\n",
    "    \n",
    "    # Allocate Tensors\n",
    "    M_tensor = np.zeros([num_faces,max_m,max_m,max_m])\n",
    "    C_tensor = np.zeros([num_faces,max_m,max_m,max_m])\n",
    "    D_tensor = np.zeros([num_faces,max_m,max_m,max_m])\n",
    "    S_tensor = np.zeros([num_faces,max_m,max_m,max_m])\n",
    "    \n",
    "    # Calculate C Tensor, parallellized over faces\n",
    "    for i in range(max_m):\n",
    "            for j in range(max_m):\n",
    "                for k in range(max_m):\n",
    "                    if (i+j+k)<=max_m:\n",
    "                        C_tensor[:,i,j,k] = (C[:,0]**i)*(C[:,1]**j)*(C[:,2]**k)*(np.math.factorial(i+j+k)/(np.math.factorial(i)*np.math.factorial(j)*np.math.factorial(k)))\n",
    "                        \n",
    "    # Calculate D Tensor, parallellized over faces\n",
    "    for i in range(max_m):\n",
    "            for j in range(max_m):\n",
    "                for k in range(max_m):\n",
    "                    if (i+j+k)<=max_m:\n",
    "                        if (i<0) or (j<0) or (k<0):\n",
    "                            # D_ijk=0\n",
    "                            pass\n",
    "                        elif (0==i) and (0==j) and (0==k):\n",
    "                            # D_ijk = 1\n",
    "                            D_tensor[:,i,j,k] = 1\n",
    "                        else:\n",
    "                            D_tensor[:,i,j,k] = B[:,0]*D_tensor[:,i-1,j,k]+B[:,1]*D_tensor[:,i,j-1,k]+B[:,2]*D_tensor[:,i,j,k-1]+C_tensor[:,i,j,k]\n",
    "    \n",
    "    \n",
    "    # Calculate S Tensor, parallellized over faces\n",
    "    for i in range(max_m):\n",
    "            for j in range(max_m):\n",
    "                for k in range(max_m):\n",
    "                    if (i+j+k)<=max_m:\n",
    "                        if (i<0) or (j<0) or (k<0):\n",
    "                            # S_ijk = 0\n",
    "                            pass\n",
    "                        elif (0==i) and (0==j) and (0==k):\n",
    "                            # S_ijk = 1\n",
    "                            S_tensor[:,i,j,k] = 1\n",
    "                        else:\n",
    "                            S_tensor[:,i,j,k] = A[:,0]*S_tensor[:,i-1,j,k]+A[:,1]*S_tensor[:,i,j-1,k]+A[:,2]*S_tensor[:,i,j,k-1]+D_tensor[:,i,j,k]\n",
    "        \n",
    "    # Calculate M Tensor, parallellized over faces\n",
    "    for i in range(max_m):\n",
    "        for j in range(max_m):\n",
    "            for k in range(max_m):\n",
    "                if (i+j+k)<=max_m:\n",
    "                    M_tensor[:,i,j,k] = ((np.math.factorial(i)*np.math.factorial(j)*np.math.factorial(k))/np.math.factorial(i+j+k+3))*dets[:]*S_tensor[:,i,j,k]\n",
    "    return np.sum(M_tensor,axis=0)"
   ]
  },
  {
   "cell_type": "code",
   "execution_count": 13,
   "id": "788c832c",
   "metadata": {},
   "outputs": [],
   "source": [
    "\n",
    "\n",
    "import torch\n",
    "from math import factorial\n",
    "\n",
    "def M_ijk_torch(f_matrix,v_matrix,max_m):\n",
    "    num_faces = len(f_matrix)\n",
    "    \n",
    "    # Extract coordinates\n",
    "    ABC = v_matrix[f_matrix]\n",
    "    # Calculate Determinants\n",
    "    dets = torch.det(ABC)\n",
    "    \n",
    "    # Allocate Tensors\n",
    "    M_tensor = torch.zeros([num_faces,max_m,max_m,max_m],dtype=torch.float64)\n",
    "    C_tensor = torch.zeros([num_faces,max_m,max_m,max_m],dtype=torch.float64)\n",
    "    D_tensor = torch.zeros([num_faces,max_m,max_m,max_m],dtype=torch.float64)\n",
    "    S_tensor = torch.zeros([num_faces,max_m,max_m,max_m],dtype=torch.float64)\n",
    "    \n",
    "    # Calculate C Tensor, parallellized over faces\n",
    "    for i in range(max_m):\n",
    "            for j in range(max_m):\n",
    "                for k in range(max_m):\n",
    "                    if (i+j+k)<=max_m:\n",
    "                        C_tensor[:,i,j,k] = (ABC[:,2][:,0]**i)*(ABC[:,2][:,1]**j)*(ABC[:,2][:,2]**k)*(factorial(i+j+k)/(factorial(i)*factorial(j)*factorial(k)))\n",
    "                        \n",
    "    # Calculate D Tensor, parallellized over faces\n",
    "    for i in range(max_m):\n",
    "            for j in range(max_m):\n",
    "                for k in range(max_m):\n",
    "                    if (i+j+k)<=max_m:\n",
    "                        if (i<0) or (j<0) or (k<0):\n",
    "                            # D_ijk=0\n",
    "                            pass\n",
    "                        elif (0==i) and (0==j) and (0==k):\n",
    "                            # D_ijk = 1\n",
    "                            D_tensor[:,i,j,k] = 1\n",
    "                        else:\n",
    "                            D_tensor[:,i,j,k] = ABC[:,1][:,0]*D_tensor[:,i-1,j,k]+ABC[:,1][:,1]*D_tensor[:,i,j-1,k]+ABC[:,1][:,2]*D_tensor[:,i,j,k-1]+C_tensor[:,i,j,k]\n",
    "    \n",
    "    \n",
    "    # Calculate S Tensor, parallellized over faces\n",
    "    for i in range(max_m):\n",
    "            for j in range(max_m):\n",
    "                for k in range(max_m):\n",
    "                    if (i+j+k)<=max_m:\n",
    "                        if (i<0) or (j<0) or (k<0):\n",
    "                            # S_ijk = 0\n",
    "                            pass\n",
    "                        elif (0==i) and (0==j) and (0==k):\n",
    "                            # S_ijk = 1\n",
    "                            S_tensor[:,i,j,k] = 1\n",
    "                        else:\n",
    "                            S_tensor[:,i,j,k] = ABC[:,0][:,0]*S_tensor[:,i-1,j,k]+ABC[:,0][:,1]*S_tensor[:,i,j-1,k]+ABC[:,0][:,2]*S_tensor[:,i,j,k-1]+D_tensor[:,i,j,k]\n",
    "        \n",
    "    # Calculate M Tensor, parallellized over faces\n",
    "    for i in range(max_m):\n",
    "        for j in range(max_m):\n",
    "            for k in range(max_m):\n",
    "                if (i+j+k)<=max_m:\n",
    "                    M_tensor[:,i,j,k] = ((factorial(i)*factorial(j)*factorial(k))/factorial(i+j+k+3))*(dets[:]*S_tensor[:,i,j,k])\n",
    "                    \n",
    "    return torch.sum(M_tensor,0)\n",
    "    \n",
    "\n",
    "# M_ijk_fast_pytorch(torch.tensor(f_matrix,dtype=torch.long),torch.tensor(v_matrix),3)"
   ]
  },
  {
   "cell_type": "code",
   "execution_count": 14,
   "id": "eed2271f",
   "metadata": {
    "scrolled": true
   },
   "outputs": [],
   "source": [
    "test_tensor = np.zeros((max_m,max_m,max_m))\n",
    "for i in range(max_m):\n",
    "    for j in range(max_m):\n",
    "        for k in range(max_m):\n",
    "            if (i+j+k)<=max_m:\n",
    "                test_tensor[i,j,k] = 1/((i+1)*(j+1)*(k+1))"
   ]
  },
  {
   "cell_type": "code",
   "execution_count": 15,
   "id": "dc066cd1",
   "metadata": {},
   "outputs": [
    {
     "name": "stdout",
     "output_type": "stream",
     "text": [
      "Numpy implementation error:   1.8762299503193352e-16\n",
      "Pytorch implementation error: 1.8762299503193352e-16\n"
     ]
    }
   ],
   "source": [
    "moments_fast = M_ijk_fast(f_matrix,v_matrix,max_m)\n",
    "moments_torch = M_ijk_torch(torch.tensor(f_matrix,dtype=torch.long),torch.tensor(v_matrix),max_m)\n",
    "moments_fast_error = np.linalg.norm(test_tensor-moments_fast)\n",
    "moments_torch_error = torch.linalg.norm(torch.tensor(test_tensor)-moments_torch)\n",
    "print('Numpy implementation error:   {}\\nPytorch implementation error: {}'.format(moments_fast_error,moments_torch_error))\n"
   ]
  },
  {
   "cell_type": "markdown",
   "id": "886a8f0c",
   "metadata": {},
   "source": [
    "Since the value is ~ machine precision, the code is working properly!"
   ]
  },
  {
   "cell_type": "code",
   "execution_count": 16,
   "id": "023f0fe7",
   "metadata": {},
   "outputs": [
    {
     "name": "stdout",
     "output_type": "stream",
     "text": [
      "[[[1.         0.5        0.33333333 0.25       0.2        0.16666667\n",
      "   0.14285714 0.125      0.11111111 0.1       ]\n",
      "  [0.5        0.25       0.16666667 0.125      0.1        0.08333333\n",
      "   0.07142857 0.0625     0.05555556 0.05      ]\n",
      "  [0.33333333 0.16666667 0.11111111 0.08333333 0.06666667 0.05555556\n",
      "   0.04761905 0.04166667 0.03703704 0.        ]\n",
      "  [0.25       0.125      0.08333333 0.0625     0.05       0.04166667\n",
      "   0.03571429 0.03125    0.         0.        ]\n",
      "  [0.2        0.1        0.06666667 0.05       0.04       0.03333333\n",
      "   0.02857143 0.         0.         0.        ]\n",
      "  [0.16666667 0.08333333 0.05555556 0.04166667 0.03333333 0.02777778\n",
      "   0.         0.         0.         0.        ]\n",
      "  [0.14285714 0.07142857 0.04761905 0.03571429 0.02857143 0.\n",
      "   0.         0.         0.         0.        ]\n",
      "  [0.125      0.0625     0.04166667 0.03125    0.         0.\n",
      "   0.         0.         0.         0.        ]\n",
      "  [0.11111111 0.05555556 0.03703704 0.         0.         0.\n",
      "   0.         0.         0.         0.        ]\n",
      "  [0.1        0.05       0.         0.         0.         0.\n",
      "   0.         0.         0.         0.        ]]\n",
      "\n",
      " [[0.5        0.25       0.16666667 0.125      0.1        0.08333333\n",
      "   0.07142857 0.0625     0.05555556 0.05      ]\n",
      "  [0.25       0.125      0.08333333 0.0625     0.05       0.04166667\n",
      "   0.03571429 0.03125    0.02777778 0.        ]\n",
      "  [0.16666667 0.08333333 0.05555556 0.04166667 0.03333333 0.02777778\n",
      "   0.02380952 0.02083333 0.         0.        ]\n",
      "  [0.125      0.0625     0.04166667 0.03125    0.025      0.02083333\n",
      "   0.01785714 0.         0.         0.        ]\n",
      "  [0.1        0.05       0.03333333 0.025      0.02       0.01666667\n",
      "   0.         0.         0.         0.        ]\n",
      "  [0.08333333 0.04166667 0.02777778 0.02083333 0.01666667 0.\n",
      "   0.         0.         0.         0.        ]\n",
      "  [0.07142857 0.03571429 0.02380952 0.01785714 0.         0.\n",
      "   0.         0.         0.         0.        ]\n",
      "  [0.0625     0.03125    0.02083333 0.         0.         0.\n",
      "   0.         0.         0.         0.        ]\n",
      "  [0.05555556 0.02777778 0.         0.         0.         0.\n",
      "   0.         0.         0.         0.        ]\n",
      "  [0.05       0.         0.         0.         0.         0.\n",
      "   0.         0.         0.         0.        ]]\n",
      "\n",
      " [[0.33333333 0.16666667 0.11111111 0.08333333 0.06666667 0.05555556\n",
      "   0.04761905 0.04166667 0.03703704 0.        ]\n",
      "  [0.16666667 0.08333333 0.05555556 0.04166667 0.03333333 0.02777778\n",
      "   0.02380952 0.02083333 0.         0.        ]\n",
      "  [0.11111111 0.05555556 0.03703704 0.02777778 0.02222222 0.01851852\n",
      "   0.01587302 0.         0.         0.        ]\n",
      "  [0.08333333 0.04166667 0.02777778 0.02083333 0.01666667 0.01388889\n",
      "   0.         0.         0.         0.        ]\n",
      "  [0.06666667 0.03333333 0.02222222 0.01666667 0.01333333 0.\n",
      "   0.         0.         0.         0.        ]\n",
      "  [0.05555556 0.02777778 0.01851852 0.01388889 0.         0.\n",
      "   0.         0.         0.         0.        ]\n",
      "  [0.04761905 0.02380952 0.01587302 0.         0.         0.\n",
      "   0.         0.         0.         0.        ]\n",
      "  [0.04166667 0.02083333 0.         0.         0.         0.\n",
      "   0.         0.         0.         0.        ]\n",
      "  [0.03703704 0.         0.         0.         0.         0.\n",
      "   0.         0.         0.         0.        ]\n",
      "  [0.         0.         0.         0.         0.         0.\n",
      "   0.         0.         0.         0.        ]]\n",
      "\n",
      " [[0.25       0.125      0.08333333 0.0625     0.05       0.04166667\n",
      "   0.03571429 0.03125    0.         0.        ]\n",
      "  [0.125      0.0625     0.04166667 0.03125    0.025      0.02083333\n",
      "   0.01785714 0.         0.         0.        ]\n",
      "  [0.08333333 0.04166667 0.02777778 0.02083333 0.01666667 0.01388889\n",
      "   0.         0.         0.         0.        ]\n",
      "  [0.0625     0.03125    0.02083333 0.015625   0.0125     0.\n",
      "   0.         0.         0.         0.        ]\n",
      "  [0.05       0.025      0.01666667 0.0125     0.         0.\n",
      "   0.         0.         0.         0.        ]\n",
      "  [0.04166667 0.02083333 0.01388889 0.         0.         0.\n",
      "   0.         0.         0.         0.        ]\n",
      "  [0.03571429 0.01785714 0.         0.         0.         0.\n",
      "   0.         0.         0.         0.        ]\n",
      "  [0.03125    0.         0.         0.         0.         0.\n",
      "   0.         0.         0.         0.        ]\n",
      "  [0.         0.         0.         0.         0.         0.\n",
      "   0.         0.         0.         0.        ]\n",
      "  [0.         0.         0.         0.         0.         0.\n",
      "   0.         0.         0.         0.        ]]\n",
      "\n",
      " [[0.2        0.1        0.06666667 0.05       0.04       0.03333333\n",
      "   0.02857143 0.         0.         0.        ]\n",
      "  [0.1        0.05       0.03333333 0.025      0.02       0.01666667\n",
      "   0.         0.         0.         0.        ]\n",
      "  [0.06666667 0.03333333 0.02222222 0.01666667 0.01333333 0.\n",
      "   0.         0.         0.         0.        ]\n",
      "  [0.05       0.025      0.01666667 0.0125     0.         0.\n",
      "   0.         0.         0.         0.        ]\n",
      "  [0.04       0.02       0.01333333 0.         0.         0.\n",
      "   0.         0.         0.         0.        ]\n",
      "  [0.03333333 0.01666667 0.         0.         0.         0.\n",
      "   0.         0.         0.         0.        ]\n",
      "  [0.02857143 0.         0.         0.         0.         0.\n",
      "   0.         0.         0.         0.        ]\n",
      "  [0.         0.         0.         0.         0.         0.\n",
      "   0.         0.         0.         0.        ]\n",
      "  [0.         0.         0.         0.         0.         0.\n",
      "   0.         0.         0.         0.        ]\n",
      "  [0.         0.         0.         0.         0.         0.\n",
      "   0.         0.         0.         0.        ]]\n",
      "\n",
      " [[0.16666667 0.08333333 0.05555556 0.04166667 0.03333333 0.02777778\n",
      "   0.         0.         0.         0.        ]\n",
      "  [0.08333333 0.04166667 0.02777778 0.02083333 0.01666667 0.\n",
      "   0.         0.         0.         0.        ]\n",
      "  [0.05555556 0.02777778 0.01851852 0.01388889 0.         0.\n",
      "   0.         0.         0.         0.        ]\n",
      "  [0.04166667 0.02083333 0.01388889 0.         0.         0.\n",
      "   0.         0.         0.         0.        ]\n",
      "  [0.03333333 0.01666667 0.         0.         0.         0.\n",
      "   0.         0.         0.         0.        ]\n",
      "  [0.02777778 0.         0.         0.         0.         0.\n",
      "   0.         0.         0.         0.        ]\n",
      "  [0.         0.         0.         0.         0.         0.\n",
      "   0.         0.         0.         0.        ]\n",
      "  [0.         0.         0.         0.         0.         0.\n",
      "   0.         0.         0.         0.        ]\n",
      "  [0.         0.         0.         0.         0.         0.\n",
      "   0.         0.         0.         0.        ]\n",
      "  [0.         0.         0.         0.         0.         0.\n",
      "   0.         0.         0.         0.        ]]\n",
      "\n",
      " [[0.14285714 0.07142857 0.04761905 0.03571429 0.02857143 0.\n",
      "   0.         0.         0.         0.        ]\n",
      "  [0.07142857 0.03571429 0.02380952 0.01785714 0.         0.\n",
      "   0.         0.         0.         0.        ]\n",
      "  [0.04761905 0.02380952 0.01587302 0.         0.         0.\n",
      "   0.         0.         0.         0.        ]\n",
      "  [0.03571429 0.01785714 0.         0.         0.         0.\n",
      "   0.         0.         0.         0.        ]\n",
      "  [0.02857143 0.         0.         0.         0.         0.\n",
      "   0.         0.         0.         0.        ]\n",
      "  [0.         0.         0.         0.         0.         0.\n",
      "   0.         0.         0.         0.        ]\n",
      "  [0.         0.         0.         0.         0.         0.\n",
      "   0.         0.         0.         0.        ]\n",
      "  [0.         0.         0.         0.         0.         0.\n",
      "   0.         0.         0.         0.        ]\n",
      "  [0.         0.         0.         0.         0.         0.\n",
      "   0.         0.         0.         0.        ]\n",
      "  [0.         0.         0.         0.         0.         0.\n",
      "   0.         0.         0.         0.        ]]\n",
      "\n",
      " [[0.125      0.0625     0.04166667 0.03125    0.         0.\n",
      "   0.         0.         0.         0.        ]\n",
      "  [0.0625     0.03125    0.02083333 0.         0.         0.\n",
      "   0.         0.         0.         0.        ]\n",
      "  [0.04166667 0.02083333 0.         0.         0.         0.\n",
      "   0.         0.         0.         0.        ]\n",
      "  [0.03125    0.         0.         0.         0.         0.\n",
      "   0.         0.         0.         0.        ]\n",
      "  [0.         0.         0.         0.         0.         0.\n",
      "   0.         0.         0.         0.        ]\n",
      "  [0.         0.         0.         0.         0.         0.\n",
      "   0.         0.         0.         0.        ]\n",
      "  [0.         0.         0.         0.         0.         0.\n",
      "   0.         0.         0.         0.        ]\n",
      "  [0.         0.         0.         0.         0.         0.\n",
      "   0.         0.         0.         0.        ]\n",
      "  [0.         0.         0.         0.         0.         0.\n",
      "   0.         0.         0.         0.        ]\n",
      "  [0.         0.         0.         0.         0.         0.\n",
      "   0.         0.         0.         0.        ]]\n",
      "\n",
      " [[0.11111111 0.05555556 0.03703704 0.         0.         0.\n",
      "   0.         0.         0.         0.        ]\n",
      "  [0.05555556 0.02777778 0.         0.         0.         0.\n",
      "   0.         0.         0.         0.        ]\n",
      "  [0.03703704 0.         0.         0.         0.         0.\n",
      "   0.         0.         0.         0.        ]\n",
      "  [0.         0.         0.         0.         0.         0.\n",
      "   0.         0.         0.         0.        ]\n",
      "  [0.         0.         0.         0.         0.         0.\n",
      "   0.         0.         0.         0.        ]\n",
      "  [0.         0.         0.         0.         0.         0.\n",
      "   0.         0.         0.         0.        ]\n",
      "  [0.         0.         0.         0.         0.         0.\n",
      "   0.         0.         0.         0.        ]\n",
      "  [0.         0.         0.         0.         0.         0.\n",
      "   0.         0.         0.         0.        ]\n",
      "  [0.         0.         0.         0.         0.         0.\n",
      "   0.         0.         0.         0.        ]\n",
      "  [0.         0.         0.         0.         0.         0.\n",
      "   0.         0.         0.         0.        ]]\n",
      "\n",
      " [[0.1        0.05       0.         0.         0.         0.\n",
      "   0.         0.         0.         0.        ]\n",
      "  [0.05       0.         0.         0.         0.         0.\n",
      "   0.         0.         0.         0.        ]\n",
      "  [0.         0.         0.         0.         0.         0.\n",
      "   0.         0.         0.         0.        ]\n",
      "  [0.         0.         0.         0.         0.         0.\n",
      "   0.         0.         0.         0.        ]\n",
      "  [0.         0.         0.         0.         0.         0.\n",
      "   0.         0.         0.         0.        ]\n",
      "  [0.         0.         0.         0.         0.         0.\n",
      "   0.         0.         0.         0.        ]\n",
      "  [0.         0.         0.         0.         0.         0.\n",
      "   0.         0.         0.         0.        ]\n",
      "  [0.         0.         0.         0.         0.         0.\n",
      "   0.         0.         0.         0.        ]\n",
      "  [0.         0.         0.         0.         0.         0.\n",
      "   0.         0.         0.         0.        ]\n",
      "  [0.         0.         0.         0.         0.         0.\n",
      "   0.         0.         0.         0.        ]]]\n"
     ]
    }
   ],
   "source": [
    "print(moments_fast)"
   ]
  },
  {
   "cell_type": "code",
   "execution_count": null,
   "id": "96150f4e",
   "metadata": {},
   "outputs": [],
   "source": []
  },
  {
   "cell_type": "code",
   "execution_count": null,
   "id": "a24e0ad8",
   "metadata": {},
   "outputs": [],
   "source": []
  },
  {
   "cell_type": "code",
   "execution_count": null,
   "id": "6f3118d3",
   "metadata": {},
   "outputs": [],
   "source": []
  },
  {
   "cell_type": "code",
   "execution_count": 17,
   "id": "039b8dcf",
   "metadata": {
    "scrolled": true
   },
   "outputs": [],
   "source": [
    "# # If interested in calculating the scaled and centered moments...\n",
    "\n",
    "# v_matrix = np.array(v_matrix)\n",
    "\n",
    "# # Calculate the centered and scaled moments\n",
    "# v_matrix[:,0] = ( v_matrix[:,0] - moments[1,0,0]/moments[0,0,0] ) / np.cbrt(moments[0,0,0])\n",
    "# v_matrix[:,1] = ( v_matrix[:,1] - moments[0,1,0]/moments[0,0,0] ) / np.cbrt(moments[0,0,0])\n",
    "# v_matrix[:,2] = ( v_matrix[:,2] - moments[0,0,1]/moments[0,0,0] ) / np.cbrt(moments[0,0,0])\n",
    "# moments = M_ijk(f_matrix,v_matrix,max_m)\n",
    "# print(moments)\n",
    "\n",
    "# # Note how running this cell twice gives nicer results!"
   ]
  },
  {
   "cell_type": "code",
   "execution_count": null,
   "id": "d5bff0e9",
   "metadata": {},
   "outputs": [],
   "source": []
  },
  {
   "cell_type": "code",
   "execution_count": null,
   "id": "29d94b1c",
   "metadata": {},
   "outputs": [],
   "source": []
  },
  {
   "cell_type": "code",
   "execution_count": null,
   "id": "c26db3c5",
   "metadata": {},
   "outputs": [],
   "source": []
  },
  {
   "cell_type": "markdown",
   "id": "bfc449c0",
   "metadata": {},
   "source": [
    "Let's test what happens when we turn the cube inside out, i.e. change the order of the face vertices to be CW instead of CCW"
   ]
  },
  {
   "cell_type": "code",
   "execution_count": 18,
   "id": "a9a036a2",
   "metadata": {},
   "outputs": [],
   "source": [
    "v_matrix_CW = m.vertex_matrix()\n",
    "f_matrix_CW = m.face_matrix()"
   ]
  },
  {
   "cell_type": "code",
   "execution_count": 19,
   "id": "4515305c",
   "metadata": {},
   "outputs": [],
   "source": [
    "f_matrix_CW[:,1] = f_matrix[:,2]\n",
    "f_matrix_CW[:,2] = f_matrix[:,1]"
   ]
  },
  {
   "cell_type": "code",
   "execution_count": 20,
   "id": "da87df72",
   "metadata": {},
   "outputs": [],
   "source": [
    "moments_CW = M_ijk_torch(torch.tensor(f_matrix_CW,dtype=torch.long),torch.tensor(v_matrix_CW),max_m)"
   ]
  },
  {
   "cell_type": "code",
   "execution_count": 21,
   "id": "2b03c444",
   "metadata": {},
   "outputs": [
    {
     "data": {
      "text/plain": [
       "tensor(-1.0000, dtype=torch.float64)"
      ]
     },
     "execution_count": 21,
     "metadata": {},
     "output_type": "execute_result"
    }
   ],
   "source": [
    "moments_CW[0,0,0]"
   ]
  },
  {
   "cell_type": "code",
   "execution_count": 22,
   "id": "f28fe8f6",
   "metadata": {},
   "outputs": [
    {
     "data": {
      "text/plain": [
       "tensor(1.0000, dtype=torch.float64)"
      ]
     },
     "execution_count": 22,
     "metadata": {},
     "output_type": "execute_result"
    }
   ],
   "source": [
    "moments_torch[0,0,0]"
   ]
  },
  {
   "cell_type": "code",
   "execution_count": null,
   "id": "35a53acf",
   "metadata": {},
   "outputs": [],
   "source": []
  },
  {
   "cell_type": "code",
   "execution_count": null,
   "id": "0b3a7801",
   "metadata": {},
   "outputs": [],
   "source": []
  },
  {
   "cell_type": "markdown",
   "id": "36b853ce",
   "metadata": {},
   "source": [
    "Check performance"
   ]
  },
  {
   "cell_type": "code",
   "execution_count": 23,
   "id": "db769327",
   "metadata": {},
   "outputs": [
    {
     "name": "stdout",
     "output_type": "stream",
     "text": [
      "4.68 ms ± 54.3 µs per loop (mean ± std. dev. of 7 runs, 100 loops each)\n"
     ]
    }
   ],
   "source": [
    "%timeit M_ijk_fast(f_matrix,v_matrix,max_m)"
   ]
  },
  {
   "cell_type": "code",
   "execution_count": 24,
   "id": "f28bca2c",
   "metadata": {},
   "outputs": [
    {
     "name": "stdout",
     "output_type": "stream",
     "text": [
      "50.3 ms ± 44.8 µs per loop (mean ± std. dev. of 7 runs, 10 loops each)\n"
     ]
    }
   ],
   "source": [
    "%timeit M_ijk_torch(torch.tensor(f_matrix,dtype=torch.long),torch.tensor(v_matrix),max_m)"
   ]
  },
  {
   "cell_type": "code",
   "execution_count": null,
   "id": "3d3a73f9",
   "metadata": {},
   "outputs": [],
   "source": []
  }
 ],
 "metadata": {
  "kernelspec": {
   "display_name": "Python 3 (ipykernel)",
   "language": "python",
   "name": "python3"
  },
  "language_info": {
   "codemirror_mode": {
    "name": "ipython",
    "version": 3
   },
   "file_extension": ".py",
   "mimetype": "text/x-python",
   "name": "python",
   "nbconvert_exporter": "python",
   "pygments_lexer": "ipython3",
   "version": "3.9.12"
  }
 },
 "nbformat": 4,
 "nbformat_minor": 5
}
