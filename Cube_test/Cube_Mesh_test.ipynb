{
 "cells": [
  {
   "cell_type": "markdown",
   "id": "7ff49b89",
   "metadata": {},
   "source": [
    "This code tests whether the implemented function is actually working properly or not\n",
    "\n",
    "It does this by calculating the moments over a unit cube with vertices (0,0,0) and (1,1,1) and edges aligned with axes and comparing with the analytical exact solution of the moments which is:\n",
    "\n",
    "1/((i+1)*(j+1)*(k+1))"
   ]
  },
  {
   "cell_type": "code",
   "execution_count": 518,
   "id": "16eba82c",
   "metadata": {},
   "outputs": [],
   "source": [
    "import pymeshlab\n",
    "import numpy as np"
   ]
  },
  {
   "cell_type": "code",
   "execution_count": 519,
   "id": "40bbb82f",
   "metadata": {},
   "outputs": [],
   "source": [
    "m = pymeshlab.Mesh(\n",
    "    vertex_matrix = [\n",
    "        [0, 0, 0],\n",
    "        [0, 0, 1],\n",
    "        [0, 1 ,0],\n",
    "        [0, 1, 1],\n",
    "        [1, 0, 0],\n",
    "        [1, 0, 1],\n",
    "        [1, 1 ,0],\n",
    "        [1, 1 ,1]\n",
    "    ],\n",
    "    face_matrix = [\n",
    "        [0,2,4],\n",
    "        [4,2,6],\n",
    "        [0,1,3],\n",
    "        [0,3,2],\n",
    "        [0,5,1],\n",
    "        [0,4,5],\n",
    "        [1,7,3],\n",
    "        [1,5,7],\n",
    "        [4,7,5],\n",
    "        [4,6,7],\n",
    "        [7,6,2],\n",
    "        [7,2,3]\n",
    "    ])"
   ]
  },
  {
   "cell_type": "code",
   "execution_count": 520,
   "id": "f1e83d57",
   "metadata": {},
   "outputs": [],
   "source": [
    "v_matrix = m.vertex_matrix()"
   ]
  },
  {
   "cell_type": "code",
   "execution_count": 521,
   "id": "42e35cec",
   "metadata": {},
   "outputs": [],
   "source": [
    "f_matrix = m.face_matrix()"
   ]
  },
  {
   "cell_type": "code",
   "execution_count": 522,
   "id": "17e76329",
   "metadata": {},
   "outputs": [
    {
     "data": {
      "text/plain": [
       "array([[1, 3, 5],\n",
       "       [5, 3, 7],\n",
       "       [1, 2, 4],\n",
       "       [1, 4, 3],\n",
       "       [1, 6, 2],\n",
       "       [1, 5, 6],\n",
       "       [2, 8, 4],\n",
       "       [2, 6, 8],\n",
       "       [5, 8, 6],\n",
       "       [5, 7, 8],\n",
       "       [8, 7, 3],\n",
       "       [8, 3, 4]], dtype=int32)"
      ]
     },
     "execution_count": 522,
     "metadata": {},
     "output_type": "execute_result"
    }
   ],
   "source": [
    "np.array(f_matrix)+1"
   ]
  },
  {
   "cell_type": "markdown",
   "id": "a7f16e81",
   "metadata": {},
   "source": [
    "By default faces are defined and stored in the counter-clockwise order, so should not have any issues calculating the moments"
   ]
  },
  {
   "cell_type": "code",
   "execution_count": 523,
   "id": "7d752803",
   "metadata": {},
   "outputs": [],
   "source": [
    "# Define the maximum order of moments to be calculated\n",
    "max_m = 5"
   ]
  },
  {
   "cell_type": "code",
   "execution_count": 524,
   "id": "c436228d",
   "metadata": {},
   "outputs": [],
   "source": [
    "def C_ijk(C,i,j,k):\n",
    "    return (C[0]**i)*(C[1]**j)*(C[2]**k)*np.math.factorial(i+j+k)/(np.math.factorial(i)*np.math.factorial(j)*np.math.factorial(k))\n",
    "        "
   ]
  },
  {
   "cell_type": "code",
   "execution_count": 525,
   "id": "20297cdc",
   "metadata": {},
   "outputs": [],
   "source": [
    "def D_ijk(D_tensor,B,C,i,j,k):\n",
    "    if (i<0) or (j<0) or (k<0):\n",
    "        # D_ijk=0\n",
    "        pass\n",
    "    elif (0==i) and (0==j) and (0==k):\n",
    "        # D_ijk = 1\n",
    "        D_tensor[i,j,k] = 1\n",
    "    else:\n",
    "        D_tensor[i,j,k] = B[0]*D_tensor[i-1,j,k]+B[1]*D_tensor[i,j-1,k]+B[2]*D_tensor[i,j,k-1]+C_ijk(C,i,j,k)\n",
    "    "
   ]
  },
  {
   "cell_type": "code",
   "execution_count": 526,
   "id": "50a8dae6",
   "metadata": {},
   "outputs": [],
   "source": [
    "def S_ijk(S_tensor,D_tensor,A,B,C,i,j,k):\n",
    "    if (i<0) or (j<0) or (k<0):\n",
    "        # S_ijk = 0\n",
    "        pass\n",
    "    elif (0==i) and (0==j) and (0==k):\n",
    "        # S_ijk = 1\n",
    "        S_tensor[i,j,k] = 1\n",
    "    else:\n",
    "        S_tensor[i,j,k] = A[0]*S_tensor[i-1,j,k]+A[1]*S_tensor[i,j-1,k]+A[2]*S_tensor[i,j,k-1]+D_tensor[i,j,k]\n",
    "    "
   ]
  },
  {
   "cell_type": "code",
   "execution_count": 527,
   "id": "cf5b3799",
   "metadata": {},
   "outputs": [],
   "source": [
    "def vol(A,B,C):\n",
    "    return 1./6*np.linalg.det([A,B,C])\n"
   ]
  },
  {
   "cell_type": "code",
   "execution_count": 528,
   "id": "5534ee16",
   "metadata": {},
   "outputs": [],
   "source": [
    "def M_ijk(f_matrix, v_matrix, max_m):\n",
    "    M_tensor = np.zeros([max_m,max_m,max_m])\n",
    "    \n",
    "    \n",
    "    for face_num in range(len(f_matrix)):\n",
    "        \n",
    "        \n",
    "        # Get the three coordinates A,B,C\n",
    "        # Any mesh library should return these in CCW order\n",
    "        [A,B,C] = v_matrix[f_matrix[face_num]]\n",
    "        \n",
    "        # Calculate the face moments tensor\n",
    "        # Each face moments tensor requires calculating S_ijk, D_ijk, and C_ijk Tensor Calculations.\n",
    "\n",
    "        # C_ijk tensor is not reused, calculate on the fly\n",
    "        \n",
    "        # D_ijk tensor is reused, calculate and store\n",
    "        D_tensor = np.zeros([max_m,max_m,max_m])\n",
    "        for i in range(max_m):\n",
    "            for j in range(max_m):\n",
    "                for k in range(max_m):\n",
    "                    if (i+j+k)<=max_m:\n",
    "                        D_ijk(D_tensor,B,C,i,j,k)\n",
    "                        \n",
    "        # S_ijk tensor is reqused, calculate and store\n",
    "        S_tensor = np.zeros([max_m,max_m,max_m])\n",
    "        for i in range(max_m):\n",
    "            for j in range(max_m):\n",
    "                for k in range(max_m):\n",
    "                    if (i+j+k)<=max_m:\n",
    "                        S_ijk(S_tensor,D_tensor,A,B,C,i,j,k)\n",
    "                        \n",
    "        # Now calculate the moments on current face\n",
    "        f_M_tensor = np.zeros([max_m,max_m,max_m])\n",
    "        for i in range(max_m):\n",
    "            for j in range(max_m):\n",
    "                for k in range(max_m):\n",
    "                    if (i+j+k)<=max_m:\n",
    "                        f_M_tensor[i,j,k] = (np.math.factorial(i)*np.math.factorial(j)*np.math.factorial(k))/np.math.factorial(i+j+k+3)*np.linalg.det([A,B,C])*S_tensor[i,j,k]\n",
    "        \n",
    "        # Add contribution to the total moments\n",
    "        M_tensor = M_tensor+f_M_tensor\n",
    "                \n",
    "    return M_tensor\n",
    "\n"
   ]
  },
  {
   "cell_type": "code",
   "execution_count": 529,
   "id": "dc066cd1",
   "metadata": {},
   "outputs": [],
   "source": [
    "moments = M_ijk(f_matrix,v_matrix,max_m)"
   ]
  },
  {
   "cell_type": "code",
   "execution_count": 530,
   "id": "d8eaab0f",
   "metadata": {},
   "outputs": [],
   "source": [
    "test_tensor = np.zeros(np.shape(moments))"
   ]
  },
  {
   "cell_type": "code",
   "execution_count": 531,
   "id": "1b89e1d0",
   "metadata": {},
   "outputs": [],
   "source": [
    "for i in range(max_m):\n",
    "    for j in range(max_m):\n",
    "        for k in range(max_m):\n",
    "            if (i+j+k)<=max_m:\n",
    "                test_tensor[i,j,k] = 1/((i+1)*(j+1)*(k+1))"
   ]
  },
  {
   "cell_type": "code",
   "execution_count": 532,
   "id": "aeb48ef3",
   "metadata": {},
   "outputs": [
    {
     "data": {
      "text/plain": [
       "1.7053311162424517e-16"
      ]
     },
     "execution_count": 532,
     "metadata": {},
     "output_type": "execute_result"
    }
   ],
   "source": [
    "np.linalg.norm(test_tensor-moments)"
   ]
  },
  {
   "cell_type": "markdown",
   "id": "886a8f0c",
   "metadata": {},
   "source": [
    "Since the value is ~ machine precision, the code is working properly!"
   ]
  },
  {
   "cell_type": "code",
   "execution_count": 533,
   "id": "023f0fe7",
   "metadata": {},
   "outputs": [
    {
     "name": "stdout",
     "output_type": "stream",
     "text": [
      "[[[1.         0.5        0.33333333 0.25       0.2       ]\n",
      "  [0.5        0.25       0.16666667 0.125      0.1       ]\n",
      "  [0.33333333 0.16666667 0.11111111 0.08333333 0.        ]\n",
      "  [0.25       0.125      0.08333333 0.         0.        ]\n",
      "  [0.2        0.1        0.         0.         0.        ]]\n",
      "\n",
      " [[0.5        0.25       0.16666667 0.125      0.1       ]\n",
      "  [0.25       0.125      0.08333333 0.0625     0.        ]\n",
      "  [0.16666667 0.08333333 0.05555556 0.         0.        ]\n",
      "  [0.125      0.0625     0.         0.         0.        ]\n",
      "  [0.1        0.         0.         0.         0.        ]]\n",
      "\n",
      " [[0.33333333 0.16666667 0.11111111 0.08333333 0.        ]\n",
      "  [0.16666667 0.08333333 0.05555556 0.         0.        ]\n",
      "  [0.11111111 0.05555556 0.         0.         0.        ]\n",
      "  [0.08333333 0.         0.         0.         0.        ]\n",
      "  [0.         0.         0.         0.         0.        ]]\n",
      "\n",
      " [[0.25       0.125      0.08333333 0.         0.        ]\n",
      "  [0.125      0.0625     0.         0.         0.        ]\n",
      "  [0.08333333 0.         0.         0.         0.        ]\n",
      "  [0.         0.         0.         0.         0.        ]\n",
      "  [0.         0.         0.         0.         0.        ]]\n",
      "\n",
      " [[0.2        0.1        0.         0.         0.        ]\n",
      "  [0.1        0.         0.         0.         0.        ]\n",
      "  [0.         0.         0.         0.         0.        ]\n",
      "  [0.         0.         0.         0.         0.        ]\n",
      "  [0.         0.         0.         0.         0.        ]]]\n"
     ]
    }
   ],
   "source": [
    "print(moments)"
   ]
  },
  {
   "cell_type": "code",
   "execution_count": 541,
   "id": "039b8dcf",
   "metadata": {
    "scrolled": true
   },
   "outputs": [
    {
     "name": "stdout",
     "output_type": "stream",
     "text": [
      "[[[ 1.00000000e+00  0.00000000e+00  8.33333333e-02  0.00000000e+00\n",
      "    1.25000000e-02]\n",
      "  [ 0.00000000e+00  0.00000000e+00  0.00000000e+00  0.00000000e+00\n",
      "    0.00000000e+00]\n",
      "  [ 8.33333333e-02  0.00000000e+00  6.94444444e-03  0.00000000e+00\n",
      "    0.00000000e+00]\n",
      "  [ 0.00000000e+00  0.00000000e+00  0.00000000e+00  0.00000000e+00\n",
      "    0.00000000e+00]\n",
      "  [ 1.25000000e-02  0.00000000e+00  0.00000000e+00  0.00000000e+00\n",
      "    0.00000000e+00]]\n",
      "\n",
      " [[ 0.00000000e+00  0.00000000e+00 -4.33680869e-19  0.00000000e+00\n",
      "    0.00000000e+00]\n",
      "  [ 0.00000000e+00  0.00000000e+00  0.00000000e+00  0.00000000e+00\n",
      "    0.00000000e+00]\n",
      "  [-4.33680869e-19  0.00000000e+00  0.00000000e+00  0.00000000e+00\n",
      "    0.00000000e+00]\n",
      "  [ 0.00000000e+00  0.00000000e+00  0.00000000e+00  0.00000000e+00\n",
      "    0.00000000e+00]\n",
      "  [ 0.00000000e+00  0.00000000e+00  0.00000000e+00  0.00000000e+00\n",
      "    0.00000000e+00]]\n",
      "\n",
      " [[ 8.33333333e-02  0.00000000e+00  6.94444444e-03  0.00000000e+00\n",
      "    0.00000000e+00]\n",
      "  [-4.33680869e-19  0.00000000e+00  0.00000000e+00  0.00000000e+00\n",
      "    0.00000000e+00]\n",
      "  [ 6.94444444e-03  0.00000000e+00  0.00000000e+00  0.00000000e+00\n",
      "    0.00000000e+00]\n",
      "  [ 0.00000000e+00  0.00000000e+00  0.00000000e+00  0.00000000e+00\n",
      "    0.00000000e+00]\n",
      "  [ 0.00000000e+00  0.00000000e+00  0.00000000e+00  0.00000000e+00\n",
      "    0.00000000e+00]]\n",
      "\n",
      " [[ 0.00000000e+00  0.00000000e+00  0.00000000e+00  0.00000000e+00\n",
      "    0.00000000e+00]\n",
      "  [ 0.00000000e+00  0.00000000e+00  0.00000000e+00  0.00000000e+00\n",
      "    0.00000000e+00]\n",
      "  [ 0.00000000e+00  0.00000000e+00  0.00000000e+00  0.00000000e+00\n",
      "    0.00000000e+00]\n",
      "  [ 0.00000000e+00  0.00000000e+00  0.00000000e+00  0.00000000e+00\n",
      "    0.00000000e+00]\n",
      "  [ 0.00000000e+00  0.00000000e+00  0.00000000e+00  0.00000000e+00\n",
      "    0.00000000e+00]]\n",
      "\n",
      " [[ 1.25000000e-02  0.00000000e+00  0.00000000e+00  0.00000000e+00\n",
      "    0.00000000e+00]\n",
      "  [ 0.00000000e+00  0.00000000e+00  0.00000000e+00  0.00000000e+00\n",
      "    0.00000000e+00]\n",
      "  [ 0.00000000e+00  0.00000000e+00  0.00000000e+00  0.00000000e+00\n",
      "    0.00000000e+00]\n",
      "  [ 0.00000000e+00  0.00000000e+00  0.00000000e+00  0.00000000e+00\n",
      "    0.00000000e+00]\n",
      "  [ 0.00000000e+00  0.00000000e+00  0.00000000e+00  0.00000000e+00\n",
      "    0.00000000e+00]]]\n"
     ]
    }
   ],
   "source": [
    "v_matrix = np.array(v_matrix)\n",
    "\n",
    "# Calculate the centered and scaled moments\n",
    "v_matrix[:,0] = ( v_matrix[:,0] - moments[1,0,0]/moments[0,0,0] ) / np.cbrt(moments[0,0,0])\n",
    "v_matrix[:,1] = ( v_matrix[:,1] - moments[0,1,0]/moments[0,0,0] ) / np.cbrt(moments[0,0,0])\n",
    "v_matrix[:,2] = ( v_matrix[:,2] - moments[0,0,1]/moments[0,0,0] ) / np.cbrt(moments[0,0,0])\n",
    "moments = M_ijk(f_matrix,v_matrix,max_m)\n",
    "print(moments)\n",
    "\n",
    "# Note how running this twice gives nicer results!"
   ]
  }
 ],
 "metadata": {
  "kernelspec": {
   "display_name": "Python 3 (ipykernel)",
   "language": "python",
   "name": "python3"
  },
  "language_info": {
   "codemirror_mode": {
    "name": "ipython",
    "version": 3
   },
   "file_extension": ".py",
   "mimetype": "text/x-python",
   "name": "python",
   "nbconvert_exporter": "python",
   "pygments_lexer": "ipython3",
   "version": "3.9.12"
  }
 },
 "nbformat": 4,
 "nbformat_minor": 5
}
